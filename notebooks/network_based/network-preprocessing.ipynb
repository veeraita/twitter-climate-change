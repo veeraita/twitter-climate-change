{
 "cells": [
  {
   "cell_type": "code",
   "execution_count": 230,
   "metadata": {},
   "outputs": [],
   "source": [
    "import numpy as np\n",
    "import pandas as pd\n",
    "import itertools\n",
    "import json\n",
    "import os\n",
    "from collections import Counter"
   ]
  },
  {
   "cell_type": "markdown",
   "metadata": {},
   "source": [
    "# Network data pre-processing\n",
    "This notebook is a WIP, and will contain following sections:\n",
    "1. **Data inspection**\n",
    "2. **Data restructure**\n",
    "2. **Data selection**\n",
    "3. **Data transformation**\n",
    "4. **Data output**"
   ]
  },
  {
   "cell_type": "markdown",
   "metadata": {},
   "source": [
    "### **1. Data inspection**"
   ]
  },
  {
   "cell_type": "markdown",
   "metadata": {},
   "source": [
    "### Loading the data"
   ]
  },
  {
   "cell_type": "code",
   "execution_count": 231,
   "metadata": {},
   "outputs": [],
   "source": [
    "path =  str(os.path.abspath(os.path.join('',\"../../data/toy_data/\")))\n",
    "data = pd.read_json(path + \"/data1.json\",orient=\"records\", lines=True, encoding=\"utf-8\")"
   ]
  },
  {
   "cell_type": "code",
   "execution_count": 232,
   "metadata": {},
   "outputs": [
    {
     "data": {
      "text/plain": [
       "(200, 36)"
      ]
     },
     "execution_count": 232,
     "metadata": {},
     "output_type": "execute_result"
    }
   ],
   "source": [
    "data.shape"
   ]
  },
  {
   "cell_type": "code",
   "execution_count": 233,
   "metadata": {},
   "outputs": [
    {
     "data": {
      "text/plain": [
       "created_at                   datetime64[ns, UTC]\n",
       "id                                         int64\n",
       "id_str                                     int64\n",
       "text                                      object\n",
       "source                                    object\n",
       "truncated                                   bool\n",
       "in_reply_to_status_id                    float64\n",
       "in_reply_to_status_id_str                float64\n",
       "in_reply_to_user_id                      float64\n",
       "in_reply_to_user_id_str                  float64\n",
       "in_reply_to_screen_name                   object\n",
       "user                                      object\n",
       "geo                                      float64\n",
       "coordinates                              float64\n",
       "place                                     object\n",
       "contributors                             float64\n",
       "retweeted_status                          object\n",
       "is_quote_status                             bool\n",
       "quote_count                                int64\n",
       "reply_count                                int64\n",
       "retweet_count                              int64\n",
       "favorite_count                             int64\n",
       "entities                                  object\n",
       "favorited                                   bool\n",
       "retweeted                                   bool\n",
       "possibly_sensitive                       float64\n",
       "filter_level                              object\n",
       "lang                                      object\n",
       "timestamp_ms                      datetime64[ns]\n",
       "extended_entities                         object\n",
       "quoted_status_id                         float64\n",
       "quoted_status_id_str                     float64\n",
       "quoted_status                             object\n",
       "quoted_status_permalink                   object\n",
       "display_text_range                        object\n",
       "extended_tweet                            object\n",
       "dtype: object"
      ]
     },
     "execution_count": 233,
     "metadata": {},
     "output_type": "execute_result"
    }
   ],
   "source": [
    "data.dtypes"
   ]
  },
  {
   "cell_type": "markdown",
   "metadata": {},
   "source": [
    "### **2. Restructuring data**\n",
    "#### Reducing complexity / flattening data"
   ]
  },
  {
   "cell_type": "code",
   "execution_count": 234,
   "metadata": {},
   "outputs": [],
   "source": [
    "data['user_id']               = [row['id'] for row in data['user']]\n",
    "data['user_name']             = [row['name'] for row in data['user']]\n",
    "data['user_screen_name']      = [row['screen_name'] for row in data['user']]\n",
    "data['user_defined_location'] = [row['location'] if pd.notnull(row['location']) else None for row in data['user']]\n",
    "data['user_followers_count']  = [row['followers_count'] for row in data['user']]\n",
    "data['place_country_code']    = [row['country_code'] if row != None else None for row in data['place']]\n",
    "data['place_name']            = [row['name'] if row != None else None for row in data['place']]\n",
    "data['place_type']            = [row['place_type'] if row != None else None for row in data['place']]\n",
    "data['place_coordinates']     = [dict(row['bounding_box'])['coordinates'][0][0] if row != None else None for row in data['place']]\n",
    "data['hashtags']              = [[htags['text'].lower() for htags in row['hashtags']] for row in data['entities'] if row['hashtags'] != \"\"]\n",
    "data['user_created_at']       = [row['created_at'] for row in data['user']]\n",
    "data['user_geo_enabled']      = [row['geo_enabled'] for row in data['user']]\n",
    "data['is_retweet']            = [1 if b else 0 for b in data['retweeted_status'].notnull()]"
   ]
  },
  {
   "cell_type": "markdown",
   "metadata": {},
   "source": [
    "#### Extracting parent tweet ids for retweets"
   ]
  },
  {
   "cell_type": "code",
   "execution_count": 235,
   "metadata": {},
   "outputs": [],
   "source": [
    "parent_tweet_ids = []\n",
    "for index, row in data.iterrows():\n",
    "    if row['is_retweet']:\n",
    "        tweet = row['retweeted_status']\n",
    "        parent_tweet_ids.append(tweet['id_str'])\n",
    "    else:\n",
    "        parent_tweet_ids.append(None)\n",
    "        \n",
    "data['parent_tweet_id'] = parent_tweet_ids"
   ]
  },
  {
   "cell_type": "markdown",
   "metadata": {},
   "source": [
    "#### Extracting boolean value for original video / image content"
   ]
  },
  {
   "cell_type": "code",
   "execution_count": 236,
   "metadata": {},
   "outputs": [],
   "source": [
    "data['has_media'] = pd.notna(data['extended_entities'])"
   ]
  },
  {
   "cell_type": "markdown",
   "metadata": {},
   "source": [
    "#### Extract ids of the mentioned users for each tweet"
   ]
  },
  {
   "cell_type": "code",
   "execution_count": 237,
   "metadata": {},
   "outputs": [],
   "source": [
    "import re\n",
    "\n",
    "def extract_mentions(x):\n",
    "    return [n.replace(\"id': \",\"\") for n in re.findall(\"id': [0-9]*\", str(x))]\n",
    "\n",
    "data['mentions'] = data['entities'].apply(lambda x: extract_mentions(x))"
   ]
  },
  {
   "cell_type": "markdown",
   "metadata": {},
   "source": [
    "#### Extract hashtags"
   ]
  },
  {
   "cell_type": "code",
   "execution_count": 238,
   "metadata": {},
   "outputs": [],
   "source": [
    "def extract_hashtags(x):\n",
    "    return [n.replace(\"'text': \",\"\") for n in re.findall(\"'text': '[a-zA-Z0-9_]*'\", str(x))]\n",
    "\n",
    "data['hashtags'] = data['entities'].apply(lambda x: extract_hashtags(x))"
   ]
  },
  {
   "cell_type": "markdown",
   "metadata": {},
   "source": [
    "### **3. Data selection**"
   ]
  },
  {
   "cell_type": "code",
   "execution_count": 239,
   "metadata": {},
   "outputs": [],
   "source": [
    "selection = ['created_at',                                  # Timestamp for possible time comparisons\n",
    "             'id',                                          # Id of the tweet for collecting replies / retweets\n",
    "             'hashtags',                                    # Hashtags for coloring the nodes\n",
    "             'user_id',\n",
    "             'user_name',                                   # Identify / define nodes in the network\n",
    "             'mentions',                                    # Define interaction-edges for mentions\n",
    "             'retweeted',                                   # Judge if tweet is an origin-tweet in the graph\n",
    "             'parent_tweet_id',                             # If retweet, find original tweet\n",
    "             'place_coordinates','place_name','place_type',\n",
    "             'user_defined_location',                       # Keep location/place data for filtering by city \n",
    "             'in_reply_to_user_id']                         # Define interaction-edges for replies\n",
    "data_sel  = data[selection]"
   ]
  },
  {
   "cell_type": "code",
   "execution_count": 240,
   "metadata": {},
   "outputs": [
    {
     "data": {
      "text/plain": [
       "(200, 13)"
      ]
     },
     "execution_count": 240,
     "metadata": {},
     "output_type": "execute_result"
    }
   ],
   "source": [
    "data_sel.shape"
   ]
  },
  {
   "cell_type": "code",
   "execution_count": 241,
   "metadata": {},
   "outputs": [
    {
     "data": {
      "text/html": [
       "<div>\n",
       "<style scoped>\n",
       "    .dataframe tbody tr th:only-of-type {\n",
       "        vertical-align: middle;\n",
       "    }\n",
       "\n",
       "    .dataframe tbody tr th {\n",
       "        vertical-align: top;\n",
       "    }\n",
       "\n",
       "    .dataframe thead th {\n",
       "        text-align: right;\n",
       "    }\n",
       "</style>\n",
       "<table border=\"1\" class=\"dataframe\">\n",
       "  <thead>\n",
       "    <tr style=\"text-align: right;\">\n",
       "      <th></th>\n",
       "      <th>created_at</th>\n",
       "      <th>id</th>\n",
       "      <th>hashtags</th>\n",
       "      <th>user_id</th>\n",
       "      <th>user_name</th>\n",
       "      <th>mentions</th>\n",
       "      <th>retweeted</th>\n",
       "      <th>parent_tweet_id</th>\n",
       "      <th>place_coordinates</th>\n",
       "      <th>place_name</th>\n",
       "      <th>place_type</th>\n",
       "      <th>user_defined_location</th>\n",
       "      <th>in_reply_to_user_id</th>\n",
       "    </tr>\n",
       "  </thead>\n",
       "  <tbody>\n",
       "    <tr>\n",
       "      <th>30</th>\n",
       "      <td>2019-10-10 19:59:55+00:00</td>\n",
       "      <td>1182385288850620416</td>\n",
       "      <td>[]</td>\n",
       "      <td>1114171414230241281</td>\n",
       "      <td>volcano70</td>\n",
       "      <td>[47753979]</td>\n",
       "      <td>False</td>\n",
       "      <td>None</td>\n",
       "      <td>None</td>\n",
       "      <td>None</td>\n",
       "      <td>None</td>\n",
       "      <td>None</td>\n",
       "      <td>47753979.0</td>\n",
       "    </tr>\n",
       "    <tr>\n",
       "      <th>31</th>\n",
       "      <td>2019-10-10 19:59:55+00:00</td>\n",
       "      <td>1182385288993222665</td>\n",
       "      <td>['wtylewizji']</td>\n",
       "      <td>826731067172335616</td>\n",
       "      <td>Robert Palikot</td>\n",
       "      <td>[]</td>\n",
       "      <td>False</td>\n",
       "      <td>None</td>\n",
       "      <td>None</td>\n",
       "      <td>None</td>\n",
       "      <td>None</td>\n",
       "      <td>Poznań, Polska</td>\n",
       "      <td>NaN</td>\n",
       "    </tr>\n",
       "    <tr>\n",
       "      <th>32</th>\n",
       "      <td>2019-10-10 19:59:55+00:00</td>\n",
       "      <td>1182385289374982144</td>\n",
       "      <td>['Rom']</td>\n",
       "      <td>871823728145039361</td>\n",
       "      <td>riesenpanda</td>\n",
       "      <td>[22926365, 1006419421244678144]</td>\n",
       "      <td>False</td>\n",
       "      <td>1181194087891968001</td>\n",
       "      <td>None</td>\n",
       "      <td>None</td>\n",
       "      <td>None</td>\n",
       "      <td>Ludwigshafen am Rhein, Germany</td>\n",
       "      <td>NaN</td>\n",
       "    </tr>\n",
       "    <tr>\n",
       "      <th>33</th>\n",
       "      <td>2019-10-10 19:59:55+00:00</td>\n",
       "      <td>1182385289383292930</td>\n",
       "      <td>[]</td>\n",
       "      <td>1125031585726849025</td>\n",
       "      <td>Provezza 🌊🌪</td>\n",
       "      <td>[1156281409193086976, 16465385]</td>\n",
       "      <td>False</td>\n",
       "      <td>1182300609833254918</td>\n",
       "      <td>None</td>\n",
       "      <td>None</td>\n",
       "      <td>None</td>\n",
       "      <td>None</td>\n",
       "      <td>NaN</td>\n",
       "    </tr>\n",
       "    <tr>\n",
       "      <th>34</th>\n",
       "      <td>2019-10-10 19:59:55+00:00</td>\n",
       "      <td>1182385289530097665</td>\n",
       "      <td>[]</td>\n",
       "      <td>69903520</td>\n",
       "      <td>Mrs. Putin☕️ Tamara Alexis</td>\n",
       "      <td>[]</td>\n",
       "      <td>False</td>\n",
       "      <td>None</td>\n",
       "      <td>[-76.712759, 44.16054]</td>\n",
       "      <td>Kingston</td>\n",
       "      <td>city</td>\n",
       "      <td>Pluto America</td>\n",
       "      <td>NaN</td>\n",
       "    </tr>\n",
       "    <tr>\n",
       "      <th>35</th>\n",
       "      <td>2019-10-10 19:59:55+00:00</td>\n",
       "      <td>1182385289806745600</td>\n",
       "      <td>[]</td>\n",
       "      <td>536068379</td>\n",
       "      <td>D Matheson</td>\n",
       "      <td>[]</td>\n",
       "      <td>False</td>\n",
       "      <td>None</td>\n",
       "      <td>None</td>\n",
       "      <td>None</td>\n",
       "      <td>None</td>\n",
       "      <td>Victoria, Australia</td>\n",
       "      <td>NaN</td>\n",
       "    </tr>\n",
       "    <tr>\n",
       "      <th>36</th>\n",
       "      <td>2019-10-10 19:59:55+00:00</td>\n",
       "      <td>1182385290016677888</td>\n",
       "      <td>[]</td>\n",
       "      <td>1358892625</td>\n",
       "      <td>Ivan Darias Alfonso</td>\n",
       "      <td>[6134882, 1177946826407849987, 118237722104814...</td>\n",
       "      <td>False</td>\n",
       "      <td>1182377221048143872</td>\n",
       "      <td>None</td>\n",
       "      <td>None</td>\n",
       "      <td>None</td>\n",
       "      <td>Vienna, Austria</td>\n",
       "      <td>NaN</td>\n",
       "    </tr>\n",
       "    <tr>\n",
       "      <th>37</th>\n",
       "      <td>2019-10-10 19:59:55+00:00</td>\n",
       "      <td>1182385290029215745</td>\n",
       "      <td>[]</td>\n",
       "      <td>20725516</td>\n",
       "      <td>Ben McKenna</td>\n",
       "      <td>[]</td>\n",
       "      <td>False</td>\n",
       "      <td>None</td>\n",
       "      <td>None</td>\n",
       "      <td>None</td>\n",
       "      <td>None</td>\n",
       "      <td>West Yorks via North London</td>\n",
       "      <td>NaN</td>\n",
       "    </tr>\n",
       "    <tr>\n",
       "      <th>38</th>\n",
       "      <td>2019-10-10 19:59:55+00:00</td>\n",
       "      <td>1182385290209480704</td>\n",
       "      <td>[]</td>\n",
       "      <td>965014538130083840</td>\n",
       "      <td>Hector Mendoza</td>\n",
       "      <td>[1653217514]</td>\n",
       "      <td>False</td>\n",
       "      <td>1182372429122936843</td>\n",
       "      <td>None</td>\n",
       "      <td>None</td>\n",
       "      <td>None</td>\n",
       "      <td>None</td>\n",
       "      <td>NaN</td>\n",
       "    </tr>\n",
       "    <tr>\n",
       "      <th>39</th>\n",
       "      <td>2019-10-10 19:59:55+00:00</td>\n",
       "      <td>1182385290423558144</td>\n",
       "      <td>[]</td>\n",
       "      <td>1481735839</td>\n",
       "      <td>Jostein Gråfelder</td>\n",
       "      <td>[212973087]</td>\n",
       "      <td>False</td>\n",
       "      <td>1180756871248060416</td>\n",
       "      <td>None</td>\n",
       "      <td>None</td>\n",
       "      <td>None</td>\n",
       "      <td>None</td>\n",
       "      <td>NaN</td>\n",
       "    </tr>\n",
       "  </tbody>\n",
       "</table>\n",
       "</div>"
      ],
      "text/plain": [
       "                  created_at                   id        hashtags  \\\n",
       "30 2019-10-10 19:59:55+00:00  1182385288850620416              []   \n",
       "31 2019-10-10 19:59:55+00:00  1182385288993222665  ['wtylewizji']   \n",
       "32 2019-10-10 19:59:55+00:00  1182385289374982144         ['Rom']   \n",
       "33 2019-10-10 19:59:55+00:00  1182385289383292930              []   \n",
       "34 2019-10-10 19:59:55+00:00  1182385289530097665              []   \n",
       "35 2019-10-10 19:59:55+00:00  1182385289806745600              []   \n",
       "36 2019-10-10 19:59:55+00:00  1182385290016677888              []   \n",
       "37 2019-10-10 19:59:55+00:00  1182385290029215745              []   \n",
       "38 2019-10-10 19:59:55+00:00  1182385290209480704              []   \n",
       "39 2019-10-10 19:59:55+00:00  1182385290423558144              []   \n",
       "\n",
       "                user_id                   user_name  \\\n",
       "30  1114171414230241281                   volcano70   \n",
       "31   826731067172335616              Robert Palikot   \n",
       "32   871823728145039361                 riesenpanda   \n",
       "33  1125031585726849025                 Provezza 🌊🌪   \n",
       "34             69903520  Mrs. Putin☕️ Tamara Alexis   \n",
       "35            536068379                  D Matheson   \n",
       "36           1358892625         Ivan Darias Alfonso   \n",
       "37             20725516                 Ben McKenna   \n",
       "38   965014538130083840              Hector Mendoza   \n",
       "39           1481735839           Jostein Gråfelder   \n",
       "\n",
       "                                             mentions  retweeted  \\\n",
       "30                                         [47753979]      False   \n",
       "31                                                 []      False   \n",
       "32                    [22926365, 1006419421244678144]      False   \n",
       "33                    [1156281409193086976, 16465385]      False   \n",
       "34                                                 []      False   \n",
       "35                                                 []      False   \n",
       "36  [6134882, 1177946826407849987, 118237722104814...      False   \n",
       "37                                                 []      False   \n",
       "38                                       [1653217514]      False   \n",
       "39                                        [212973087]      False   \n",
       "\n",
       "        parent_tweet_id       place_coordinates place_name place_type  \\\n",
       "30                 None                    None       None       None   \n",
       "31                 None                    None       None       None   \n",
       "32  1181194087891968001                    None       None       None   \n",
       "33  1182300609833254918                    None       None       None   \n",
       "34                 None  [-76.712759, 44.16054]   Kingston       city   \n",
       "35                 None                    None       None       None   \n",
       "36  1182377221048143872                    None       None       None   \n",
       "37                 None                    None       None       None   \n",
       "38  1182372429122936843                    None       None       None   \n",
       "39  1180756871248060416                    None       None       None   \n",
       "\n",
       "             user_defined_location  in_reply_to_user_id  \n",
       "30                            None           47753979.0  \n",
       "31                  Poznań, Polska                  NaN  \n",
       "32  Ludwigshafen am Rhein, Germany                  NaN  \n",
       "33                            None                  NaN  \n",
       "34                  Pluto America                   NaN  \n",
       "35             Victoria, Australia                  NaN  \n",
       "36                 Vienna, Austria                  NaN  \n",
       "37     West Yorks via North London                  NaN  \n",
       "38                            None                  NaN  \n",
       "39                            None                  NaN  "
      ]
     },
     "execution_count": 241,
     "metadata": {},
     "output_type": "execute_result"
    }
   ],
   "source": [
    "n = 30\n",
    "k = 10\n",
    "data_sel.iloc[n:n+k]"
   ]
  },
  {
   "cell_type": "markdown",
   "metadata": {},
   "source": [
    "### **4. Data transformation** "
   ]
  },
  {
   "cell_type": "markdown",
   "metadata": {},
   "source": [
    "Let's define a method for transforming the data into a list of edges with edge attributes. For this we will conveniency class Counter from collections."
   ]
  },
  {
   "cell_type": "code",
   "execution_count": 242,
   "metadata": {},
   "outputs": [],
   "source": [
    "in_retweet_ids  = set(data['parent_tweet_id'].values)\n",
    "out_retweet_ids = set() "
   ]
  },
  {
   "cell_type": "code",
   "execution_count": 243,
   "metadata": {},
   "outputs": [],
   "source": [
    "import math\n",
    "\n",
    "def init_edge(src,trg,edges):\n",
    "    if (src,trg) not in edges: edges[(src,trg)] = Counter({'orig_mentions':0, 'retweets':0, 'replies':0})\n",
    "            \n",
    "\n",
    "def transform_to_edges(data: pd.DataFrame) -> dict:\n",
    "    edges = {} # Dict where keys are tuples containing the source and target ids\n",
    "               # values are Counters with attributes: orig_mentions, retweets, replies\n",
    "    \n",
    "    for i,row in data.iterrows():\n",
    "        src      = row['user_id']\n",
    "        rtd      = row['is_retweet']\n",
    "        par_id   = row['parent_tweet_id']\n",
    "        reply_id = row['in_reply_to_user_id']\n",
    "        attr     = None\n",
    "        \n",
    "        mentions = list(row['mentions'])\n",
    "        \n",
    "        # Case 1. reply\n",
    "        if reply_id in mentions:\n",
    "            init_edge(src,reply_id,edges)\n",
    "            edges[(src,reply_id)]['replies'] += 1\n",
    "            mentions.remove(reply_id)\n",
    "            \n",
    "        # Case 2. retweet\n",
    "        if rtd:\n",
    "            if len(mentions) == 1:\n",
    "                # Handle the special case: if only one mention left, then it must be the retweet\n",
    "                trg = int(mentions.pop())\n",
    "                init_edge(src,trg,edges)\n",
    "                edges[(src,trg)]['retweets'] += 1\n",
    "                \n",
    "            elif par_id in retweet_ids_in:\n",
    "                trg = data['user_id'].loc[data['id'] == par_id]\n",
    "                init_edge(src,trg,edges)\n",
    "                edges[(src,trg)]['retweets'] += 1\n",
    "                mentions.remove(trg)\n",
    "            else:\n",
    "                out_retweet_ids.add(par_id)\n",
    "                # Can't remove mention as we don't know which one of the left mentions \n",
    "                # is the right user id. This can be resolved when / if the tweet id is \n",
    "                # queried on Twitter Search API, meanwhile one of the retweets will be \n",
    "                # mislabeled as mention.\n",
    "                \n",
    "        # Add left ones as original (or mislabeled) tweet with a mention\n",
    "        for trg in mentions:\n",
    "            init_edge(src,trg,edges)\n",
    "            edges[(src,trg)]['orig_mentions'] += 1\n",
    "        \n",
    "    return edges"
   ]
  },
  {
   "cell_type": "code",
   "execution_count": 244,
   "metadata": {},
   "outputs": [],
   "source": [
    "edges = transform_to_edges(data)"
   ]
  },
  {
   "cell_type": "code",
   "execution_count": 245,
   "metadata": {},
   "outputs": [
    {
     "name": "stdout",
     "output_type": "stream",
     "text": [
      "227 edges found, 27 retweets were mislabeled as mentions.\n"
     ]
    }
   ],
   "source": [
    "print(\"{} edges found, {} retweets were mislabeled as mentions.\".format(len(edges),len(out_retweet_ids)))"
   ]
  },
  {
   "cell_type": "markdown",
   "metadata": {},
   "source": [
    "Inspect the resulting data:"
   ]
  },
  {
   "cell_type": "code",
   "execution_count": 246,
   "metadata": {},
   "outputs": [
    {
     "name": "stdout",
     "output_type": "stream",
     "text": [
      "Index (2738228687, 459390022)\n",
      "replies:  0\n",
      "retweets: 1\n",
      "mentions: 0\n",
      "\n",
      "\n",
      "Index (116893165, 753974664041533440)\n",
      "replies:  0\n",
      "retweets: 1\n",
      "mentions: 0\n",
      "\n",
      "\n",
      "Index (350914441, 3243658266)\n",
      "replies:  0\n",
      "retweets: 1\n",
      "mentions: 0\n",
      "\n",
      "\n",
      "Index (1181481224587694080, 14266598)\n",
      "replies:  0\n",
      "retweets: 1\n",
      "mentions: 0\n",
      "\n",
      "\n",
      "Index (1159118914514771969, '911254908921298944')\n",
      "replies:  0\n",
      "retweets: 0\n",
      "mentions: 1\n",
      "\n",
      "\n",
      "Index (1159118914514771969, '1182248816105463809')\n",
      "replies:  0\n",
      "retweets: 0\n",
      "mentions: 1\n",
      "\n",
      "\n",
      "Index (1159118914514771969, '1182248889098874880')\n",
      "replies:  0\n",
      "retweets: 0\n",
      "mentions: 1\n",
      "\n",
      "\n",
      "Index (1159118914514771969, '1035407102')\n",
      "replies:  0\n",
      "retweets: 0\n",
      "mentions: 1\n",
      "\n",
      "\n",
      "Index (258950247, 415763567)\n",
      "replies:  0\n",
      "retweets: 1\n",
      "mentions: 0\n",
      "\n",
      "\n",
      "Index (930876414, 16031927)\n",
      "replies:  0\n",
      "retweets: 1\n",
      "mentions: 0\n",
      "\n",
      "\n"
     ]
    }
   ],
   "source": [
    "k, rang = 0, 10\n",
    "\n",
    "for i,counters in edges.items():\n",
    "    print('Index {0}\\nreplies:  {1}\\nretweets: {2}\\nmentions: {3}\\n\\n'.format(i,counters['replies'], counters['retweets'], counters['orig_mentions']))\n",
    "    k += 1\n",
    "    if k == rang: break"
   ]
  },
  {
   "cell_type": "markdown",
   "metadata": {},
   "source": [
    "### **5. Data Output** "
   ]
  },
  {
   "cell_type": "code",
   "execution_count": 247,
   "metadata": {},
   "outputs": [],
   "source": [
    "edgelist = [(i[0],i[1],dict(k)) for i,k in edges.items()]\n",
    "missing_tweets = list(out_retweet_ids)"
   ]
  },
  {
   "cell_type": "code",
   "execution_count": 248,
   "metadata": {},
   "outputs": [],
   "source": [
    "with open('edgelist.json', 'w') as file:\n",
    "    json.dump(edgelist, file, allow_nan=False)\n",
    "    \n",
    "with open('missing_tweets.json', 'w') as file:\n",
    "    json.dump(missing_tweets, file, allow_nan=False)"
   ]
  }
 ],
 "metadata": {
  "kernelspec": {
   "display_name": "aalto-sci-project",
   "language": "python",
   "name": "aalto-sci-project"
  },
  "language_info": {
   "codemirror_mode": {
    "name": "ipython",
    "version": 3
   },
   "file_extension": ".py",
   "mimetype": "text/x-python",
   "name": "python",
   "nbconvert_exporter": "python",
   "pygments_lexer": "ipython3",
   "version": "3.7.6"
  }
 },
 "nbformat": 4,
 "nbformat_minor": 2
}
