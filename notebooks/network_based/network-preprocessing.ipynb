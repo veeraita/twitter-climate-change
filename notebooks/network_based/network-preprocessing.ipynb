{
 "cells": [
  {
   "cell_type": "code",
   "execution_count": 1,
   "metadata": {},
   "outputs": [],
   "source": [
    "import numpy as np\n",
    "import pandas as pd\n",
    "import itertools\n",
    "import json\n",
    "import os\n",
    "from collections import Counter"
   ]
  },
  {
   "cell_type": "markdown",
   "metadata": {},
   "source": [
    "# Network data pre-processing\n",
    "This notebook is a WIP, and will contain following sections:\n",
    "1. **Data inspection**\n",
    "2. **Data restructure**\n",
    "2. **Data selection**\n",
    "3. **Data transformation**\n",
    "4. **Data output**"
   ]
  },
  {
   "cell_type": "markdown",
   "metadata": {},
   "source": [
    "### **1. Data inspection**"
   ]
  },
  {
   "cell_type": "markdown",
   "metadata": {},
   "source": [
    "### Loading the data"
   ]
  },
  {
   "cell_type": "code",
   "execution_count": 2,
   "metadata": {},
   "outputs": [],
   "source": [
    "path = str(os.path.abspath(os.path.join('',\"../../data/toy_data/\")))\n",
    "data = pd.read_json(path + \"/data1.json\",orient=\"records\", dtype=False, lines=True, encoding=\"utf-8\")"
   ]
  },
  {
   "cell_type": "code",
   "execution_count": 3,
   "metadata": {},
   "outputs": [
    {
     "data": {
      "text/plain": [
       "(200, 36)"
      ]
     },
     "execution_count": 3,
     "metadata": {},
     "output_type": "execute_result"
    }
   ],
   "source": [
    "data.shape"
   ]
  },
  {
   "cell_type": "code",
   "execution_count": 4,
   "metadata": {},
   "outputs": [
    {
     "data": {
      "text/plain": [
       "created_at                   datetime64[ns, UTC]\n",
       "id                                         int64\n",
       "id_str                                    object\n",
       "text                                      object\n",
       "source                                    object\n",
       "truncated                                   bool\n",
       "in_reply_to_status_id                    float64\n",
       "in_reply_to_status_id_str                 object\n",
       "in_reply_to_user_id                      float64\n",
       "in_reply_to_user_id_str                   object\n",
       "in_reply_to_screen_name                   object\n",
       "user                                      object\n",
       "geo                                       object\n",
       "coordinates                               object\n",
       "place                                     object\n",
       "contributors                              object\n",
       "retweeted_status                          object\n",
       "is_quote_status                             bool\n",
       "quote_count                                int64\n",
       "reply_count                                int64\n",
       "retweet_count                              int64\n",
       "favorite_count                             int64\n",
       "entities                                  object\n",
       "favorited                                   bool\n",
       "retweeted                                   bool\n",
       "possibly_sensitive                        object\n",
       "filter_level                              object\n",
       "lang                                      object\n",
       "timestamp_ms                      datetime64[ns]\n",
       "extended_entities                         object\n",
       "quoted_status_id                         float64\n",
       "quoted_status_id_str                      object\n",
       "quoted_status                             object\n",
       "quoted_status_permalink                   object\n",
       "display_text_range                        object\n",
       "extended_tweet                            object\n",
       "dtype: object"
      ]
     },
     "execution_count": 4,
     "metadata": {},
     "output_type": "execute_result"
    }
   ],
   "source": [
    "data.dtypes"
   ]
  },
  {
   "cell_type": "code",
   "execution_count": 5,
   "metadata": {},
   "outputs": [],
   "source": [
    "data['id_str'] = data['id_str'].astype(str)\n",
    "data['in_reply_to_user_id_str'] = data['in_reply_to_user_id_str'].astype(str)"
   ]
  },
  {
   "cell_type": "markdown",
   "metadata": {},
   "source": [
    "### **2. Restructuring data**\n",
    "#### Reducing complexity / flattening data"
   ]
  },
  {
   "cell_type": "code",
   "execution_count": 6,
   "metadata": {},
   "outputs": [],
   "source": [
    "data['user_id_str']           = [row['id_str'] for row in data['user']]\n",
    "data['user_name']             = [row['name'] for row in data['user']]\n",
    "data['user_screen_name']      = [row['screen_name'] for row in data['user']]\n",
    "data['user_defined_location'] = [row['location'] if pd.notnull(row['location']) else None for row in data['user']]\n",
    "data['user_followers_count']  = [row['followers_count'] for row in data['user']]\n",
    "data['place_country_code']    = [row['country_code'] if row != None else None for row in data['place']]\n",
    "data['place_name']            = [row['name'] if row != None else None for row in data['place']]\n",
    "data['place_type']            = [row['place_type'] if row != None else None for row in data['place']]\n",
    "data['place_coordinates']     = [dict(row['bounding_box'])['coordinates'][0][0] if row != None else None for row in data['place']]\n",
    "data['hashtags']              = [[htags['text'].lower() for htags in row['hashtags']] for row in data['entities'] if row['hashtags'] != \"\"]\n",
    "data['user_created_at']       = [row['created_at'] for row in data['user']]\n",
    "data['user_geo_enabled']      = [row['geo_enabled'] for row in data['user']]\n",
    "data['is_retweet']            = [1 if b else 0 for b in data['retweeted_status'].notnull()]"
   ]
  },
  {
   "cell_type": "markdown",
   "metadata": {},
   "source": [
    "#### Extracting parent tweet ids for retweets"
   ]
  },
  {
   "cell_type": "code",
   "execution_count": 7,
   "metadata": {},
   "outputs": [],
   "source": [
    "parent_tweet_ids = []\n",
    "for index, row in data.iterrows():\n",
    "    if row['is_retweet']:\n",
    "        tweet = row['retweeted_status']\n",
    "        parent_tweet_ids.append(tweet['id_str'])\n",
    "    else:\n",
    "        parent_tweet_ids.append(None)\n",
    "        \n",
    "data['parent_tweet_id_str'] = parent_tweet_ids"
   ]
  },
  {
   "cell_type": "markdown",
   "metadata": {},
   "source": [
    "#### Extracting boolean value for original video / image content"
   ]
  },
  {
   "cell_type": "code",
   "execution_count": 8,
   "metadata": {},
   "outputs": [],
   "source": [
    "data['has_media'] = pd.notna(data['extended_entities'])"
   ]
  },
  {
   "cell_type": "markdown",
   "metadata": {},
   "source": [
    "#### Extract ids of the mentioned users for each tweet"
   ]
  },
  {
   "cell_type": "code",
   "execution_count": 9,
   "metadata": {},
   "outputs": [],
   "source": [
    "import re\n",
    "\n",
    "def extract_mentions(x):\n",
    "    return [str(n.replace(\"id': \",\"\")) for n in re.findall(\"id': [0-9]*\", str(x))]\n",
    "\n",
    "data['mentions'] = data['entities'].apply(lambda x: extract_mentions(x))"
   ]
  },
  {
   "cell_type": "markdown",
   "metadata": {},
   "source": [
    "#### Extract hashtags"
   ]
  },
  {
   "cell_type": "code",
   "execution_count": 10,
   "metadata": {},
   "outputs": [],
   "source": [
    "def extract_hashtags(x):\n",
    "    return [n.replace(\"'text': \",\"\") for n in re.findall(\"'text': '[a-zA-Z0-9_]*'\", str(x))]\n",
    "\n",
    "data['hashtags'] = data['entities'].apply(lambda x: extract_hashtags(x))"
   ]
  },
  {
   "cell_type": "markdown",
   "metadata": {},
   "source": [
    "### **3. Data selection**"
   ]
  },
  {
   "cell_type": "code",
   "execution_count": 11,
   "metadata": {},
   "outputs": [],
   "source": [
    "selection = ['created_at',                                  # Timestamp for possible time comparisons\n",
    "             'id_str',                                      # Id of the tweet for collecting replies / retweets\n",
    "             'hashtags',                                    # Hashtags for coloring the nodes\n",
    "             'user_id_str',                                 # Identify / define nodes in the network \n",
    "             'mentions',                                    # Define interaction-edges for mentions\n",
    "             'parent_tweet_id_str',                         # If retweet, find original tweet\n",
    "             'place_coordinates','place_name','place_type',\n",
    "             'user_defined_location',                       # Keep location/place data for filtering by city \n",
    "             'in_reply_to_user_id_str']                     # Define interaction-edges for replies\n",
    "data_sel  = data[selection]"
   ]
  },
  {
   "cell_type": "code",
   "execution_count": 12,
   "metadata": {},
   "outputs": [
    {
     "data": {
      "text/plain": [
       "(200, 11)"
      ]
     },
     "execution_count": 12,
     "metadata": {},
     "output_type": "execute_result"
    }
   ],
   "source": [
    "data_sel.shape"
   ]
  },
  {
   "cell_type": "code",
   "execution_count": 13,
   "metadata": {},
   "outputs": [
    {
     "data": {
      "text/html": [
       "<div>\n",
       "<style scoped>\n",
       "    .dataframe tbody tr th:only-of-type {\n",
       "        vertical-align: middle;\n",
       "    }\n",
       "\n",
       "    .dataframe tbody tr th {\n",
       "        vertical-align: top;\n",
       "    }\n",
       "\n",
       "    .dataframe thead th {\n",
       "        text-align: right;\n",
       "    }\n",
       "</style>\n",
       "<table border=\"1\" class=\"dataframe\">\n",
       "  <thead>\n",
       "    <tr style=\"text-align: right;\">\n",
       "      <th></th>\n",
       "      <th>created_at</th>\n",
       "      <th>id_str</th>\n",
       "      <th>hashtags</th>\n",
       "      <th>user_id_str</th>\n",
       "      <th>mentions</th>\n",
       "      <th>parent_tweet_id_str</th>\n",
       "      <th>place_coordinates</th>\n",
       "      <th>place_name</th>\n",
       "      <th>place_type</th>\n",
       "      <th>user_defined_location</th>\n",
       "      <th>in_reply_to_user_id_str</th>\n",
       "    </tr>\n",
       "  </thead>\n",
       "  <tbody>\n",
       "    <tr>\n",
       "      <th>30</th>\n",
       "      <td>2019-10-10 19:59:55+00:00</td>\n",
       "      <td>1182385288850620416</td>\n",
       "      <td>[]</td>\n",
       "      <td>1114171414230241281</td>\n",
       "      <td>[47753979]</td>\n",
       "      <td>None</td>\n",
       "      <td>None</td>\n",
       "      <td>None</td>\n",
       "      <td>None</td>\n",
       "      <td>None</td>\n",
       "      <td>47753979</td>\n",
       "    </tr>\n",
       "    <tr>\n",
       "      <th>31</th>\n",
       "      <td>2019-10-10 19:59:55+00:00</td>\n",
       "      <td>1182385288993222665</td>\n",
       "      <td>['wtylewizji']</td>\n",
       "      <td>826731067172335616</td>\n",
       "      <td>[]</td>\n",
       "      <td>None</td>\n",
       "      <td>None</td>\n",
       "      <td>None</td>\n",
       "      <td>None</td>\n",
       "      <td>Poznań, Polska</td>\n",
       "      <td>None</td>\n",
       "    </tr>\n",
       "    <tr>\n",
       "      <th>32</th>\n",
       "      <td>2019-10-10 19:59:55+00:00</td>\n",
       "      <td>1182385289374982144</td>\n",
       "      <td>['Rom']</td>\n",
       "      <td>871823728145039361</td>\n",
       "      <td>[22926365, 1006419421244678144]</td>\n",
       "      <td>1181194087891968001</td>\n",
       "      <td>None</td>\n",
       "      <td>None</td>\n",
       "      <td>None</td>\n",
       "      <td>Ludwigshafen am Rhein, Germany</td>\n",
       "      <td>None</td>\n",
       "    </tr>\n",
       "    <tr>\n",
       "      <th>33</th>\n",
       "      <td>2019-10-10 19:59:55+00:00</td>\n",
       "      <td>1182385289383292930</td>\n",
       "      <td>[]</td>\n",
       "      <td>1125031585726849025</td>\n",
       "      <td>[1156281409193086976, 16465385]</td>\n",
       "      <td>1182300609833254918</td>\n",
       "      <td>None</td>\n",
       "      <td>None</td>\n",
       "      <td>None</td>\n",
       "      <td>None</td>\n",
       "      <td>None</td>\n",
       "    </tr>\n",
       "    <tr>\n",
       "      <th>34</th>\n",
       "      <td>2019-10-10 19:59:55+00:00</td>\n",
       "      <td>1182385289530097665</td>\n",
       "      <td>[]</td>\n",
       "      <td>69903520</td>\n",
       "      <td>[]</td>\n",
       "      <td>None</td>\n",
       "      <td>[-76.712759, 44.16054]</td>\n",
       "      <td>Kingston</td>\n",
       "      <td>city</td>\n",
       "      <td>Pluto America</td>\n",
       "      <td>None</td>\n",
       "    </tr>\n",
       "    <tr>\n",
       "      <th>35</th>\n",
       "      <td>2019-10-10 19:59:55+00:00</td>\n",
       "      <td>1182385289806745600</td>\n",
       "      <td>[]</td>\n",
       "      <td>536068379</td>\n",
       "      <td>[]</td>\n",
       "      <td>None</td>\n",
       "      <td>None</td>\n",
       "      <td>None</td>\n",
       "      <td>None</td>\n",
       "      <td>Victoria, Australia</td>\n",
       "      <td>None</td>\n",
       "    </tr>\n",
       "    <tr>\n",
       "      <th>36</th>\n",
       "      <td>2019-10-10 19:59:55+00:00</td>\n",
       "      <td>1182385290016677888</td>\n",
       "      <td>[]</td>\n",
       "      <td>1358892625</td>\n",
       "      <td>[6134882, 1177946826407849987, 118237722104814...</td>\n",
       "      <td>1182377221048143872</td>\n",
       "      <td>None</td>\n",
       "      <td>None</td>\n",
       "      <td>None</td>\n",
       "      <td>Vienna, Austria</td>\n",
       "      <td>None</td>\n",
       "    </tr>\n",
       "    <tr>\n",
       "      <th>37</th>\n",
       "      <td>2019-10-10 19:59:55+00:00</td>\n",
       "      <td>1182385290029215745</td>\n",
       "      <td>[]</td>\n",
       "      <td>20725516</td>\n",
       "      <td>[]</td>\n",
       "      <td>None</td>\n",
       "      <td>None</td>\n",
       "      <td>None</td>\n",
       "      <td>None</td>\n",
       "      <td>West Yorks via North London</td>\n",
       "      <td>None</td>\n",
       "    </tr>\n",
       "    <tr>\n",
       "      <th>38</th>\n",
       "      <td>2019-10-10 19:59:55+00:00</td>\n",
       "      <td>1182385290209480704</td>\n",
       "      <td>[]</td>\n",
       "      <td>965014538130083840</td>\n",
       "      <td>[1653217514]</td>\n",
       "      <td>1182372429122936843</td>\n",
       "      <td>None</td>\n",
       "      <td>None</td>\n",
       "      <td>None</td>\n",
       "      <td>None</td>\n",
       "      <td>None</td>\n",
       "    </tr>\n",
       "    <tr>\n",
       "      <th>39</th>\n",
       "      <td>2019-10-10 19:59:55+00:00</td>\n",
       "      <td>1182385290423558144</td>\n",
       "      <td>[]</td>\n",
       "      <td>1481735839</td>\n",
       "      <td>[212973087]</td>\n",
       "      <td>1180756871248060416</td>\n",
       "      <td>None</td>\n",
       "      <td>None</td>\n",
       "      <td>None</td>\n",
       "      <td>None</td>\n",
       "      <td>None</td>\n",
       "    </tr>\n",
       "  </tbody>\n",
       "</table>\n",
       "</div>"
      ],
      "text/plain": [
       "                  created_at               id_str        hashtags  \\\n",
       "30 2019-10-10 19:59:55+00:00  1182385288850620416              []   \n",
       "31 2019-10-10 19:59:55+00:00  1182385288993222665  ['wtylewizji']   \n",
       "32 2019-10-10 19:59:55+00:00  1182385289374982144         ['Rom']   \n",
       "33 2019-10-10 19:59:55+00:00  1182385289383292930              []   \n",
       "34 2019-10-10 19:59:55+00:00  1182385289530097665              []   \n",
       "35 2019-10-10 19:59:55+00:00  1182385289806745600              []   \n",
       "36 2019-10-10 19:59:55+00:00  1182385290016677888              []   \n",
       "37 2019-10-10 19:59:55+00:00  1182385290029215745              []   \n",
       "38 2019-10-10 19:59:55+00:00  1182385290209480704              []   \n",
       "39 2019-10-10 19:59:55+00:00  1182385290423558144              []   \n",
       "\n",
       "            user_id_str                                           mentions  \\\n",
       "30  1114171414230241281                                         [47753979]   \n",
       "31   826731067172335616                                                 []   \n",
       "32   871823728145039361                    [22926365, 1006419421244678144]   \n",
       "33  1125031585726849025                    [1156281409193086976, 16465385]   \n",
       "34             69903520                                                 []   \n",
       "35            536068379                                                 []   \n",
       "36           1358892625  [6134882, 1177946826407849987, 118237722104814...   \n",
       "37             20725516                                                 []   \n",
       "38   965014538130083840                                       [1653217514]   \n",
       "39           1481735839                                        [212973087]   \n",
       "\n",
       "    parent_tweet_id_str       place_coordinates place_name place_type  \\\n",
       "30                 None                    None       None       None   \n",
       "31                 None                    None       None       None   \n",
       "32  1181194087891968001                    None       None       None   \n",
       "33  1182300609833254918                    None       None       None   \n",
       "34                 None  [-76.712759, 44.16054]   Kingston       city   \n",
       "35                 None                    None       None       None   \n",
       "36  1182377221048143872                    None       None       None   \n",
       "37                 None                    None       None       None   \n",
       "38  1182372429122936843                    None       None       None   \n",
       "39  1180756871248060416                    None       None       None   \n",
       "\n",
       "             user_defined_location in_reply_to_user_id_str  \n",
       "30                            None                47753979  \n",
       "31                  Poznań, Polska                    None  \n",
       "32  Ludwigshafen am Rhein, Germany                    None  \n",
       "33                            None                    None  \n",
       "34                  Pluto America                     None  \n",
       "35             Victoria, Australia                    None  \n",
       "36                 Vienna, Austria                    None  \n",
       "37     West Yorks via North London                    None  \n",
       "38                            None                    None  \n",
       "39                            None                    None  "
      ]
     },
     "execution_count": 13,
     "metadata": {},
     "output_type": "execute_result"
    }
   ],
   "source": [
    "n = 30\n",
    "k = 10\n",
    "data_sel.iloc[n:n+k]"
   ]
  },
  {
   "cell_type": "markdown",
   "metadata": {},
   "source": [
    "### **4. Data transformation** "
   ]
  },
  {
   "cell_type": "markdown",
   "metadata": {},
   "source": [
    "Let's define a method for transforming the data into a list of edges with edge attributes. For this we will conveniency class Counter from collections."
   ]
  },
  {
   "cell_type": "code",
   "execution_count": 14,
   "metadata": {},
   "outputs": [],
   "source": [
    "in_retweet_ids  = set(data['id_str'].values)\n",
    "out_retweet_ids = set() "
   ]
  },
  {
   "cell_type": "code",
   "execution_count": 15,
   "metadata": {},
   "outputs": [],
   "source": [
    "import math\n",
    "\n",
    "def init_edge(src,trg,edges):\n",
    "    if (str(src),str(trg)) not in edges: edges[(src,trg)] = Counter({'orig_mentions':0, 'retweets':0, 'replies':0})            \n",
    "\n",
    "def transform_to_edges(data: pd.DataFrame) -> dict:\n",
    "    edges = {} # Dict where keys are tuples containing the source and target ids\n",
    "               # values are Counters with attributes: orig_mentions, retweets, replies\n",
    "    \n",
    "    for i,row in data.iterrows():\n",
    "        src      = row['user_id_str']\n",
    "        par_id   = row['parent_tweet_id_str']\n",
    "        reply_id = row['in_reply_to_user_id_str'] \n",
    "        mentions = list(row['mentions'])\n",
    "        \n",
    "        if reply_id in mentions:\n",
    "            init_edge(src,reply_id,edges)\n",
    "            edges[(src,reply_id)]['replies'] += 1\n",
    "            mentions.remove(reply_id)\n",
    "            \n",
    "        # Case 2. retweet\n",
    "        if par_id is not None:\n",
    "            if len(mentions) == 1:\n",
    "                # Handle the special case: if only one mention left, then it must be the retweet\n",
    "                trg = str(mentions.pop())\n",
    "                init_edge(src,trg,edges)\n",
    "                edges[(src,trg)]['retweets'] += 1\n",
    "                \n",
    "            elif par_id in in_retweet_ids:\n",
    "                print(par_id)\n",
    "                trg = data['user_id_str'].loc[data['id_str'] == par_id]\n",
    "                init_edge(src,trg,edges)\n",
    "                edges[(src,trg)]['retweets'] += 1\n",
    "                mentions.remove(trg)\n",
    "            else:\n",
    "                out_retweet_ids.add(par_id)\n",
    "                # Can't remove mention as we don't know which one of the left mentions \n",
    "                # is the right user id. This can be resolved when / if the tweet id is \n",
    "                # queried on Twitter Search API, meanwhile one of the retweets will be \n",
    "                # mislabeled as mention.\n",
    "                \n",
    "        # Add left ones as original (or mislabeled) tweet with a mention\n",
    "        for trg in mentions:\n",
    "            init_edge(src,trg,edges)\n",
    "            edges[(src,trg)]['orig_mentions'] += 1\n",
    "        \n",
    "    return edges"
   ]
  },
  {
   "cell_type": "code",
   "execution_count": 16,
   "metadata": {},
   "outputs": [],
   "source": [
    "edges = transform_to_edges(data_sel)"
   ]
  },
  {
   "cell_type": "code",
   "execution_count": 17,
   "metadata": {},
   "outputs": [
    {
     "name": "stdout",
     "output_type": "stream",
     "text": [
      "227 edges found, 27 retweets were mislabeled as mentions.\n"
     ]
    }
   ],
   "source": [
    "print(\"{} edges found, {} retweets were mislabeled as mentions.\".format(len(edges),len(out_retweet_ids)))"
   ]
  },
  {
   "cell_type": "markdown",
   "metadata": {},
   "source": [
    "Inspect the resulting data:"
   ]
  },
  {
   "cell_type": "code",
   "execution_count": 18,
   "metadata": {},
   "outputs": [
    {
     "name": "stdout",
     "output_type": "stream",
     "text": [
      "0 Index ('2738228687', '459390022')\n",
      "replies:  0\n",
      "retweets: 1\n",
      "mentions: 0\n",
      "\n",
      "\n",
      "1 Index ('116893165', '753974664041533440')\n",
      "replies:  0\n",
      "retweets: 1\n",
      "mentions: 0\n",
      "\n",
      "\n",
      "2 Index ('350914441', '3243658266')\n",
      "replies:  0\n",
      "retweets: 1\n",
      "mentions: 0\n",
      "\n",
      "\n",
      "3 Index ('1181481224587694080', '14266598')\n",
      "replies:  0\n",
      "retweets: 1\n",
      "mentions: 0\n",
      "\n",
      "\n",
      "4 Index ('1159118914514771969', '911254908921298944')\n",
      "replies:  0\n",
      "retweets: 0\n",
      "mentions: 1\n",
      "\n",
      "\n",
      "5 Index ('1159118914514771969', '1182248816105463809')\n",
      "replies:  0\n",
      "retweets: 0\n",
      "mentions: 1\n",
      "\n",
      "\n",
      "6 Index ('1159118914514771969', '1182248889098874880')\n",
      "replies:  0\n",
      "retweets: 0\n",
      "mentions: 1\n",
      "\n",
      "\n",
      "7 Index ('1159118914514771969', '1035407102')\n",
      "replies:  0\n",
      "retweets: 0\n",
      "mentions: 1\n",
      "\n",
      "\n",
      "8 Index ('258950247', '415763567')\n",
      "replies:  0\n",
      "retweets: 1\n",
      "mentions: 0\n",
      "\n",
      "\n",
      "9 Index ('930876414', '16031927')\n",
      "replies:  0\n",
      "retweets: 1\n",
      "mentions: 0\n",
      "\n",
      "\n",
      "10 Index ('45620893', '1652541')\n",
      "replies:  0\n",
      "retweets: 1\n",
      "mentions: 0\n",
      "\n",
      "\n",
      "11 Index ('1081236726121676805', '3243658266')\n",
      "replies:  0\n",
      "retweets: 1\n",
      "mentions: 0\n",
      "\n",
      "\n",
      "12 Index ('316628845', '372483103')\n",
      "replies:  0\n",
      "retweets: 1\n",
      "mentions: 0\n",
      "\n",
      "\n",
      "13 Index ('798592916', '1261823515')\n",
      "replies:  0\n",
      "retweets: 1\n",
      "mentions: 0\n",
      "\n",
      "\n",
      "14 Index ('987411073950240770', '1065683863966543873')\n",
      "replies:  0\n",
      "retweets: 1\n",
      "mentions: 0\n",
      "\n",
      "\n",
      "15 Index ('848356375940009986', '2478779029')\n",
      "replies:  0\n",
      "retweets: 1\n",
      "mentions: 0\n",
      "\n",
      "\n",
      "16 Index ('162350070', '931156846152507392')\n",
      "replies:  0\n",
      "retweets: 0\n",
      "mentions: 1\n",
      "\n",
      "\n",
      "17 Index ('162350070', '136004952')\n",
      "replies:  0\n",
      "retweets: 0\n",
      "mentions: 1\n",
      "\n",
      "\n",
      "18 Index ('143561607', '117777690')\n",
      "replies:  0\n",
      "retweets: 1\n",
      "mentions: 0\n",
      "\n",
      "\n",
      "19 Index ('514740895', '36711022')\n",
      "replies:  0\n",
      "retweets: 1\n",
      "mentions: 0\n",
      "\n",
      "\n"
     ]
    }
   ],
   "source": [
    "k, rang = 0, 20\n",
    "\n",
    "for i,counters in edges.items():\n",
    "    print(k,'Index {0}\\nreplies:  {1}\\nretweets: {2}\\nmentions: {3}\\n\\n'.format(i,counters['replies'], counters['retweets'], counters['orig_mentions']))\n",
    "    k += 1\n",
    "    if k == rang: break"
   ]
  },
  {
   "cell_type": "markdown",
   "metadata": {},
   "source": [
    "### **5. Data Output** "
   ]
  },
  {
   "cell_type": "code",
   "execution_count": 19,
   "metadata": {},
   "outputs": [],
   "source": [
    "edgelist = [(i[0],i[1],dict(k)) for i,k in edges.items()]\n",
    "missing_tweets = list(out_retweet_ids)"
   ]
  },
  {
   "cell_type": "code",
   "execution_count": 20,
   "metadata": {},
   "outputs": [],
   "source": [
    "with open('edgelist.json', 'w') as file:\n",
    "    json.dump(edgelist, file, allow_nan=False)\n",
    "    \n",
    "with open('missing_tweets.json', 'w') as file:\n",
    "    json.dump(missing_tweets, file, allow_nan=False)"
   ]
  }
 ],
 "metadata": {
  "kernelspec": {
   "display_name": "aalto-sci-project",
   "language": "python",
   "name": "aalto-sci-project"
  },
  "language_info": {
   "codemirror_mode": {
    "name": "ipython",
    "version": 3
   },
   "file_extension": ".py",
   "mimetype": "text/x-python",
   "name": "python",
   "nbconvert_exporter": "python",
   "pygments_lexer": "ipython3",
   "version": "3.7.6"
  }
 },
 "nbformat": 4,
 "nbformat_minor": 2
}
