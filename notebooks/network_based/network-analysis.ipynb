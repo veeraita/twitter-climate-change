{
 "cells": [
  {
   "cell_type": "code",
   "execution_count": 1,
   "metadata": {},
   "outputs": [],
   "source": [
    "import numpy as np\n",
    "import pandas as pd\n",
    "import matplotlib.pyplot as plt\n",
    "import scipy\n",
    "import networkx as nx\n",
    "# import community / custom community detection package\n",
    "import itertools\n",
    "import seaborn as sns"
   ]
  },
  {
   "cell_type": "markdown",
   "metadata": {},
   "source": [
    "# Network analysis | ***G1: Interaction network***\n",
    "This notebook contains following sections:\n",
    "1. **Building the network representation** of G1\n",
    "2. **Explorative data analysis** of G1\n",
    "3. **Community detection** in G1\n",
    "  * Louvain\n",
    "  * Infomap\n",
    "  * Baseline homophily\n",
    "3. **Visualizations of G1 and its community structures**"
   ]
  },
  {
   "cell_type": "code",
   "execution_count": null,
   "metadata": {},
   "outputs": [],
   "source": []
  }
 ],
 "metadata": {
  "kernelspec": {
   "display_name": "aalto-sci-project",
   "language": "python",
   "name": "aalto-sci-project"
  },
  "language_info": {
   "codemirror_mode": {
    "name": "ipython",
    "version": 3
   },
   "file_extension": ".py",
   "mimetype": "text/x-python",
   "name": "python",
   "nbconvert_exporter": "python",
   "pygments_lexer": "ipython3",
   "version": "3.7.6"
  }
 },
 "nbformat": 4,
 "nbformat_minor": 4
}
