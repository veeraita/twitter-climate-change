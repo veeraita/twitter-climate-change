{
 "cells": [
  {
   "cell_type": "markdown",
   "metadata": {},
   "source": [
    "Create a small sample dataset for e.g. testing or general trial and error, and save to .csv file."
   ]
  },
  {
   "cell_type": "code",
   "execution_count": 2,
   "metadata": {},
   "outputs": [],
   "source": [
    "import tweepy\n",
    "import csv\n",
    "%run \"../../config.py\" # this imports variables from config.py as global"
   ]
  },
  {
   "cell_type": "code",
   "execution_count": 3,
   "metadata": {},
   "outputs": [],
   "source": [
    "# set these as you like\n",
    "n_tweets = 50\n",
    "query = 'climate -filter:retweets'\n",
    "geocode = '40.687244,-73.895110,20km'"
   ]
  },
  {
   "cell_type": "code",
   "execution_count": 4,
   "metadata": {},
   "outputs": [],
   "source": [
    "auth = tweepy.AppAuthHandler(consumer_key, consumer_secret)\n",
    "api = tweepy.API(auth)"
   ]
  },
  {
   "cell_type": "code",
   "execution_count": 7,
   "metadata": {},
   "outputs": [],
   "source": [
    "csvFile = open(data_filepath, 'w')\n",
    "csvWriter = csv.writer(csvFile)\n",
    "csvWriter.writerow(['id', 'text'])\n",
    "for tweet in tweepy.Cursor(api.search, tweet_mode = \"extended\",\n",
    "                           q=query,\n",
    "                           geocode=geocode,\n",
    "                           lang = \"en\",\n",
    "                           show_user = True).items(n_tweets):\n",
    "    csvWriter.writerow([tweet.id, tweet.full_text]) # add the columns you need\n",
    "csvFile.close()"
   ]
  }
 ],
 "metadata": {
  "kernelspec": {
   "display_name": "aalto-sci-project",
   "language": "python",
   "name": "aalto-sci-project"
  },
  "language_info": {
   "codemirror_mode": {
    "name": "ipython",
    "version": 3
   },
   "file_extension": ".py",
   "mimetype": "text/x-python",
   "name": "python",
   "nbconvert_exporter": "python",
   "pygments_lexer": "ipython3",
   "version": "3.7.6"
  }
 },
 "nbformat": 4,
 "nbformat_minor": 4
}
