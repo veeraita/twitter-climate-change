{
 "cells": [
  {
   "cell_type": "code",
   "execution_count": 1,
   "metadata": {},
   "outputs": [],
   "source": [
    "# following http://docs.tweepy.org/en/latest/streaming_how_to.html\n",
    "import tweepy\n",
    "import json"
   ]
  },
  {
   "cell_type": "markdown",
   "metadata": {},
   "source": [
    "# Step 1. Access API"
   ]
  },
  {
   "cell_type": "code",
   "execution_count": 2,
   "metadata": {},
   "outputs": [],
   "source": []
  },
  {
   "cell_type": "code",
   "execution_count": 3,
   "metadata": {},
   "outputs": [],
   "source": [
    "\n",
    "auth = tweepy.OAuthHandler(consumer_key, consumer_secret)\n",
    "auth.set_access_token(access_token, access_token_secret)\n",
    "api = tweepy.API(auth)\n"
   ]
  },
  {
   "cell_type": "markdown",
   "metadata": {},
   "source": [
    "# Step 2. Create \"StreamListener\" to handle the stream"
   ]
  },
  {
   "cell_type": "code",
   "execution_count": 4,
   "metadata": {},
   "outputs": [],
   "source": [
    "#override tweepy.StreamListener to add logic to on_status\n",
    "class MyStreamListener(tweepy.StreamListener):\n",
    "    def on_status(self, status):\n",
    "        print(status.text)\n",
    "    def on_error(self, status_code):\n",
    "        if status_code == 420:\n",
    "            #returning False in on_error disconnects the stream\n",
    "            return False\n",
    "    def on_data(self, data):\n",
    "\n",
    "        all_data = json.loads(data)\n",
    "        tweet = all_data[\"text\"]\n",
    "        username = all_data[\"user\"][\"screen_name\"]\n",
    "\n",
    "        #c.execute(\"INSERT INTO taula (time, username, tweet) VALUES (%s,%s,%s)\",\n",
    "        #    (time.time(), username, tweet))\n",
    "\n",
    "        #conn.commit()\n",
    "\n",
    "        print((username,tweet))\n",
    "\n",
    "        return True"
   ]
  },
  {
   "cell_type": "markdown",
   "metadata": {},
   "source": [
    "# Step 3. Create Stream"
   ]
  },
  {
   "cell_type": "code",
   "execution_count": 5,
   "metadata": {},
   "outputs": [],
   "source": [
    "myStreamListener = MyStreamListener()\n",
    "myStream = tweepy.Stream(auth = api.auth, listener=myStreamListener)"
   ]
  },
  {
   "cell_type": "markdown",
   "metadata": {},
   "source": [
    "# Step 4. Access Stream"
   ]
  },
  {
   "cell_type": "code",
   "execution_count": 6,
   "metadata": {},
   "outputs": [
    {
     "name": "stdout",
     "output_type": "stream",
     "text": [
      "('keawijkstra', '.@SvVeldhoven @TimmermansEU Dé opdracht van huidige en komende overheden: de kunststofproductie verminderen en alte… https://t.co/0WQcQVg4jQ')\n",
      "('themufumbira', 'Join us this sunday in the #Run4Climate at @MakerereU and we get this conversation started')\n",
      "('transcotland', 'Introducing £2.97 billion on our spending priorities to provide the #transport connectivity we need for inclusive e… https://t.co/eLrjRjhXNj')\n",
      "('FractalDoctor', 'Well, yes, but support is needed from #government - the onus should not be on the individual to fund the entirely o… https://t.co/vePs7xXlzO')\n",
      "('MSFsci', 'RT @LancetCountdown: The latest @LancetCountdown report tracks 41 links between health &amp; #ClimateChange from extreme weather events + food…')\n",
      "('parents_pledge', 'RT @MikeHudema: Companies are now harnessing the power of ocean waves to generate electricity. \\n\\nWe have the solutions to the #climatecrisi…')\n",
      "('BlackstockPR', 'Fantastic to see the industry addressing the climate crisis. Take a look at this report here👇')\n",
      "('Miss_Hypnotic', \"RT @SophieTrevitt: I'm getting sick of these hot takes from former Ministers &amp; PMs who lament the inaction on #ClimateChange but refuse to…\")\n",
      "('MrCraigMcGill', 'RT @transcotland: Introducing £2.97 billion on our spending priorities to provide the #transport connectivity we need for inclusive economi…')\n",
      "('humphreys', 'RT @LabourDublinCen: Some fake news doing the rounds in #DublinCentral about commitment to #ClimateChange For the record @Labour passed fir…')\n",
      "('ShannBeverley', 'RT @WoodlandTrust: \"Blue tits, great tits and pied flycatchers are struggling to react in time for their chicks to take advantage of the pe…')\n",
      "('Elisa_Buson', \"I #pannellisolari montati sul tetto? Preistoria!\\nInizia la rivoluzione dell'#architettura solare: ne parliamo con… https://t.co/KKQ4IhhUT6\")\n",
      "('rodolfito321', 'RT @BeingFarhad: \"For almost 40 years, we are a dumping ground for many Western countries.\"\\n\\nNina is an Indonesian climate activist and she…')\n",
      "('medwar93', 'RT @ellymelly: “The wind turbine blade will be there, ultimately, forever. Most landfills are considered a dry tomb,” said Bob Cappadona, c…')\n",
      "('Julie28086389', 'RT @HealthyFuturez: Adelaide absolutely smashing it! Hats off to all involved, now THAT is how you lead on tackling #ClimateChange! https:/…')\n",
      "('RichTrujillo6', 'RT @ching_dynasty: Global Class Action Part 1\\n\\n#ClimateChange #ClimateCrisis #ClimateEmergency #ExtinctionRebellion\\n\\nhttps://t.co/0YTJIkQzbW')\n",
      "('oyuksel65', \"RT @Pel_in_Ce: Hollywood aktörü Mark Ruffalo, Avrupa Birliği'ne 29 milyar euroluk 55 yeni fosil yakıt projesini engellemeleri yönünde çağrı…\")\n",
      "('John_Menzies', 'Call to end flying.  Heating, car travel and lighting are also used to excess.  Breathing beyond the age of 50 is a… https://t.co/AHDj0W0j45')\n",
      "('sandoly', 'RT @wef: How climate change caused the world’s first ever empire to collapse https://t.co/cKuLcl7k5y #climatechange #history https://t.co/d…')\n",
      "('HCKeithAllan', 'RT @COP26: 🌍 💪 💚 🇬🇧\\n\\nThe UK is holding a Year of Climate Action in the run-up to #COP26 to inspire positive #ClimateAction across the count…')\n",
      "('AdamShubhankar', 'RT @RanvirShorey: 😱😱😱😱😱😱 #ClimateCrisis #ClimateEmergency #ClimateChange')\n",
      "('MaynardLord', 'Green Commies.')\n",
      "('NajjarElle', 'Driving to #Coolongolook \\nHeavy rain, much needed. Got to our farm and shocked to find our very dry dams are full b… https://t.co/NBZzabBIaK')\n",
      "('picotmarion', 'RT @_CEJA_: \"As #youngfamers we\\'re on the frontline in dealing with #climatechange. It\\'s essential to protect the environment we work in an…')\n",
      "('edie', 'Scotland Budget outlines multi-million-pound pots for net-zero heat and agriculture. \\n\\nFull story:… https://t.co/tzxF7Tm89y')\n",
      "('EnvMohamed', 'RT @Resilient_40: We hope that youth is on the agenda! \\n\\nIt is essential that we are consulted and at the centre of conversations on #Clima…')\n",
      "('SciGlow', 'Global ocean circulation is accelerating from the surface to the abyss @ https://t.co/snx5TsiBZe #SciGlow #earth… https://t.co/eaJTnILa5G')\n"
     ]
    }
   ],
   "source": [
    "myStream.filter(track=['climatechange'], is_async=True)"
   ]
  },
  {
   "cell_type": "code",
   "execution_count": null,
   "metadata": {},
   "outputs": [],
   "source": []
  }
 ],
 "metadata": {
  "kernelspec": {
   "display_name": "Python 3",
   "language": "python",
   "name": "python3"
  },
  "language_info": {
   "codemirror_mode": {
    "name": "ipython",
    "version": 3
   },
   "file_extension": ".py",
   "mimetype": "text/x-python",
   "name": "python",
   "nbconvert_exporter": "python",
   "pygments_lexer": "ipython3",
   "version": "3.7.3"
  }
 },
 "nbformat": 4,
 "nbformat_minor": 2
}
