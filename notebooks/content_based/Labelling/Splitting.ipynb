{
 "cells": [
  {
   "cell_type": "markdown",
   "metadata": {},
   "source": [
    "# Splitting of tweets into xlsx-files"
   ]
  },
  {
   "cell_type": "markdown",
   "metadata": {},
   "source": [
    " "
   ]
  },
  {
   "cell_type": "markdown",
   "metadata": {},
   "source": [
    "This notebook is to divide 520 tweets to eight xlsx-files, so that every tweet will be labelled by three persons. This means that each member of the group will get a excel-file that has 195 tweets."
   ]
  },
  {
   "cell_type": "markdown",
   "metadata": {},
   "source": [
    "  "
   ]
  },
  {
   "cell_type": "code",
   "execution_count": null,
   "metadata": {},
   "outputs": [],
   "source": [
    "import pandas as pd\n",
    "import numpy as np\n",
    "from sklearn.model_selection import train_test_split\n",
    "import json\n",
    "import re"
   ]
  },
  {
   "cell_type": "markdown",
   "metadata": {},
   "source": [
    "## Test and train sets"
   ]
  },
  {
   "cell_type": "code",
   "execution_count": null,
   "metadata": {},
   "outputs": [],
   "source": [
    "#reads data from a file\n",
    "data_filepath = \"/data\"\n",
    "\n",
    "\n",
    "data_arr = []\n",
    "column_names = ['id','text']\n",
    "with open(data_filepath, 'r') as f:\n",
    "    for tweet in f:\n",
    "        selected_row = []\n",
    "        json_tweet = json.loads(tweet)\n",
    "        try:\n",
    "            # filter out retweets and non-English tweets\n",
    "            if not json_tweet['retweeted'] and 'RT @' not in json_tweet['text'] and json_tweet['lang'] == 'en':\n",
    "                for col in column_names:\n",
    "                    selected_row.append(json_tweet[col])\n",
    "                data_arr.append(selected_row)\n",
    "        except KeyError:\n",
    "            pass\n",
    "    data = pd.DataFrame(data_arr, columns=column_names)"
   ]
  },
  {
   "cell_type": "code",
   "execution_count": null,
   "metadata": {},
   "outputs": [],
   "source": [
    "data.head()"
   ]
  },
  {
   "cell_type": "code",
   "execution_count": null,
   "metadata": {},
   "outputs": [],
   "source": [
    "#Each 8 members labels 195 tweets.\n",
    "s = 520 #sample size\n",
    "n = 3 #the amount that each tweet is labelled\n",
    "p = 8 #number of people"
   ]
  },
  {
   "cell_type": "code",
   "execution_count": null,
   "metadata": {},
   "outputs": [],
   "source": [
    "#Collects 520 random tweets for labelling from the final data\n",
    "data_set, label_set = train_test_split(data, test_size = s)"
   ]
  },
  {
   "cell_type": "code",
   "execution_count": null,
   "metadata": {},
   "outputs": [],
   "source": [
    "print(label_set)"
   ]
  },
  {
   "cell_type": "code",
   "execution_count": null,
   "metadata": {},
   "outputs": [],
   "source": [
    "# remove URLs\n",
    "def preprocess(item):\n",
    "    item = re.sub(r'http\\S+', '', item)\n",
    "    return item"
   ]
  },
  {
   "cell_type": "code",
   "execution_count": null,
   "metadata": {},
   "outputs": [],
   "source": [
    "preprocessed_tweets = label_set['text'].apply(preprocess)"
   ]
  },
  {
   "cell_type": "code",
   "execution_count": null,
   "metadata": {},
   "outputs": [],
   "source": [
    "preprocessed_tweets.head()"
   ]
  },
  {
   "cell_type": "code",
   "execution_count": null,
   "metadata": {},
   "outputs": [],
   "source": [
    "label_df = np.c_[label_set['id'], preprocessed_tweets]\n",
    "label_df = pd.DataFrame(label_df, columns=column_names)"
   ]
  },
  {
   "cell_type": "code",
   "execution_count": null,
   "metadata": {},
   "outputs": [],
   "source": [
    "label_df"
   ]
  },
  {
   "cell_type": "markdown",
   "metadata": {},
   "source": [
    "## Dividing the data into xlsx-files"
   ]
  },
  {
   "cell_type": "code",
   "execution_count": null,
   "metadata": {},
   "outputs": [],
   "source": [
    "#Creates a dataframe that consist of s*n amounts of tweets\n",
    "add_df = label_df\n",
    "new_df = label_df\n",
    "for i in range(n-1):\n",
    "    new_df = new_df.append(add_df)\n",
    "\n",
    "#adds extra column for labelling\n",
    "new_df[\"label\"] = \"\"\n",
    "\n",
    "new_df"
   ]
  },
  {
   "cell_type": "code",
   "execution_count": null,
   "metadata": {},
   "outputs": [],
   "source": [
    "#Splits the new_df into number of p dataframes:\n",
    "df_split = np.array_split(label_df, p)\n",
    "\n",
    "df1 = df_split[0].append([df_split[1], df_split[2]])\n",
    "df2 = df_split[1].append([df_split[2], df_split[3]])\n",
    "df3 = df_split[2].append([df_split[3], df_split[4]])\n",
    "df4 = df_split[3].append([df_split[4], df_split[5]])\n",
    "df5 = df_split[4].append([df_split[5], df_split[6]])\n",
    "df6 = df_split[5].append([df_split[6], df_split[7]])\n",
    "df7 = df_split[6].append([df_split[7], df_split[1]])\n",
    "df8 = df_split[7].append([df_split[1], df_split[2]])"
   ]
  },
  {
   "cell_type": "code",
   "execution_count": null,
   "metadata": {},
   "outputs": [],
   "source": [
    "df1"
   ]
  },
  {
   "cell_type": "code",
   "execution_count": null,
   "metadata": {},
   "outputs": [],
   "source": [
    "df1.to_excel(r'C:\\Users\\Inka\\Desktop\\Koulu\\Project course\\Labelling\\Labelling_Inka.xlsx', index = False)\n",
    "df2.to_excel(r'C:\\Users\\Inka\\Desktop\\Koulu\\Project course\\Labelling\\Labelling_Maria.xlsx', index = False)\n",
    "df3.to_excel(r'C:\\Users\\Inka\\Desktop\\Koulu\\Project course\\Labelling\\Labelling_Ville.xlsx', index = False)\n",
    "df4.to_excel(r'C:\\Users\\Inka\\Desktop\\Koulu\\Project course\\Labelling\\Labelling_Maryam.xlsx', index = False)\n",
    "df5.to_excel(r'C:\\Users\\Inka\\Desktop\\Koulu\\Project course\\Labelling\\Labelling_Annika.xlsx', index = False)\n",
    "df6.to_excel(r'C:\\Users\\Inka\\Desktop\\Koulu\\Project course\\Labelling\\Labelling_Veera.xlsx', index = False)\n",
    "df7.to_excel(r'C:\\Users\\Inka\\Desktop\\Koulu\\Project course\\Labelling\\Labelling_Nuutti.xlsx', index = False)\n",
    "df8.to_excel(r'C:\\Users\\Inka\\Desktop\\Koulu\\Project course\\Labelling\\Labelling_Estanislao.xlsx', index = False)"
   ]
  },
  {
   "cell_type": "code",
   "execution_count": null,
   "metadata": {},
   "outputs": [],
   "source": [
    "#Let's read the exels\n",
    "lb1 = pd.read_excel(r'C:\\Users\\Inka\\Desktop\\Koulu\\Project course\\Labelling\\Labelling_Inka.xlsx')\n",
    "lb2 = pd.read_excel(r'C:\\Users\\Inka\\Desktop\\Koulu\\Project course\\Labelling\\Labelling_Maria.xlsx')\n",
    "lb3 = pd.read_excel(r'C:\\Users\\Inka\\Desktop\\Koulu\\Project course\\Labelling\\Labelling_Ville.xlsx')\n",
    "lb4 = pd.read_excel(r'C:\\Users\\Inka\\Desktop\\Koulu\\Project course\\Labelling\\Labelling_Maryam.xlsx')\n",
    "lb5 = pd.read_excel(r'C:\\Users\\Inka\\Desktop\\Koulu\\Project course\\Labelling\\Labelling_Annika.xlsx')\n",
    "lb6 = pd.read_excel(r'C:\\Users\\Inka\\Desktop\\Koulu\\Project course\\Labelling\\Labelling_Veera.xlsx')\n",
    "lb7 = pd.read_excel(r'C:\\Users\\Inka\\Desktop\\Koulu\\Project course\\Labelling\\Labelling_Nuutti.xlsx')\n",
    "lb8 = pd.read_excel(r'C:\\Users\\Inka\\Desktop\\Koulu\\Project course\\Labelling\\Labelling_Estanislao.xlsx')"
   ]
  },
  {
   "cell_type": "code",
   "execution_count": null,
   "metadata": {},
   "outputs": [],
   "source": [
    "lb2.head()"
   ]
  },
  {
   "cell_type": "markdown",
   "metadata": {},
   "source": [
    "## Combining the xlsx-files into one"
   ]
  },
  {
   "cell_type": "code",
   "execution_count": null,
   "metadata": {},
   "outputs": [],
   "source": [
    "#Combines all the files together:\n",
    "combined = lb1.append([lb2, lb3, lb4, lb5])\n",
    "combined.reset_index(inplace=True)"
   ]
  },
  {
   "cell_type": "code",
   "execution_count": null,
   "metadata": {},
   "outputs": [],
   "source": [
    "label_list = []\n",
    "for i in range(s):\n",
    "\n",
    "    label1 = combined.iloc[i, 3]\n",
    "    label2 = combined.iloc[i + s, 3] \n",
    "    label3 = combined.iloc[i + s*2, 3]\n",
    "    \n",
    "    if label1 == label2:\n",
    "        label = label1\n",
    "        label_list.append(label)\n",
    "    elif label2 == label3:\n",
    "        label = label2\n",
    "        label_list.append(label)\n",
    "    elif label3 == label1:\n",
    "        label = label3\n",
    "        label_list.append(label)\n",
    "    else:\n",
    "        label = 'xxx'\n",
    "        label_list.append(label)\n",
    "        print(combined.iloc[i, 2])"
   ]
  },
  {
   "cell_type": "code",
   "execution_count": null,
   "metadata": {},
   "outputs": [],
   "source": [
    "print(label_list)"
   ]
  },
  {
   "cell_type": "code",
   "execution_count": null,
   "metadata": {},
   "outputs": [],
   "source": [
    "final_set = np.c_[label_set, label_list]\n",
    "final_set = pd.DataFrame(final_set, columns=['id', 'text', 'label'])"
   ]
  },
  {
   "cell_type": "code",
   "execution_count": null,
   "metadata": {},
   "outputs": [],
   "source": [
    "final_set"
   ]
  }
 ],
 "metadata": {
  "kernelspec": {
   "display_name": "Python 3",
   "language": "python",
   "name": "python3"
  },
  "language_info": {
   "codemirror_mode": {
    "name": "ipython",
    "version": 3
   },
   "file_extension": ".py",
   "mimetype": "text/x-python",
   "name": "python",
   "nbconvert_exporter": "python",
   "pygments_lexer": "ipython3",
   "version": "3.7.4"
  }
 },
 "nbformat": 4,
 "nbformat_minor": 2
}
