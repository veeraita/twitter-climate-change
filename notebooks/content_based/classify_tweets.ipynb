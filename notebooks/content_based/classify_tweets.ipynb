{
 "cells": [
  {
   "cell_type": "markdown",
   "metadata": {},
   "source": [
    "### 1. Load data"
   ]
  },
  {
   "cell_type": "code",
   "execution_count": 18,
   "metadata": {},
   "outputs": [],
   "source": [
    "import pandas as pd\n",
    "import numpy as np\n",
    "import matplotlib.pyplot as plt\n",
    "from sklearn.naive_bayes import MultinomialNB # naive Bayes\n",
    "from sklearn.linear_model import SGDClassifier # SVM\n",
    "from sklearn.model_selection import cross_val_score\n",
    "%matplotlib inline"
   ]
  },
  {
   "cell_type": "code",
   "execution_count": 25,
   "metadata": {},
   "outputs": [
    {
     "name": "stdout",
     "output_type": "stream",
     "text": [
      "(146, 222) (49, 222)\n"
     ]
    }
   ],
   "source": [
    "train_fpath = '/home/veera/LST_project/toy_data/train_data.csv'\n",
    "test_fpath = '/home/veera/LST_project/toy_data/test_data.csv'\n",
    "labels_col_name = 'Label'\n",
    "id_col_name = 'id_str'\n",
    "\n",
    "def download_from_csv(filename):\n",
    "    # Helper for creating a matrix (ndarray) out of csv data\n",
    "    df = pd.read_csv(filename, header=0, index_col=id_col_name)\n",
    "    features = df.drop(labels_col_name, axis=1).values\n",
    "    labels = df[labels_col_name].values\n",
    "\n",
    "    return features, labels\n",
    "\n",
    "X_train, y_train = download_from_csv(train_fpath)\n",
    "X_test, y_test = download_from_csv(test_fpath)\n",
    "\n",
    "print(X_train.shape, X_test.shape)"
   ]
  },
  {
   "cell_type": "markdown",
   "metadata": {},
   "source": [
    "### 2. Explorative data analysis"
   ]
  },
  {
   "cell_type": "code",
   "execution_count": 26,
   "metadata": {},
   "outputs": [
    {
     "data": {
      "image/png": "[encoded data removed]",
      "text/plain": [
       "<Figure size 360x360 with 1 Axes>"
      ]
     },
     "metadata": {
      "needs_background": "light"
     },
     "output_type": "display_data"
    }
   ],
   "source": [
    "# visualize class distribution\n",
    "fig1, ax = plt.subplots(1, 1, figsize=(5, 5))\n",
    "hist = ax.hist(y_train, bins=np.arange(0.5, 5.5, 1), alpha=0.5, ec='black', rwidth=0.8)\n",
    "ax.xaxis.set_ticks([i for i in range(1, 5)])\n",
    "ax.set_title('Distribution of different classes in training data')\n",
    "\n",
    "plt.show()"
   ]
  },
  {
   "cell_type": "markdown",
   "metadata": {},
   "source": [
    "### 3. Fit model "
   ]
  },
  {
   "cell_type": "code",
   "execution_count": 29,
   "metadata": {},
   "outputs": [
    {
     "data": {
      "text/plain": [
       "SGDClassifier(alpha=0.0001, average=False, class_weight=None,\n",
       "              early_stopping=False, epsilon=0.1, eta0=0.0, fit_intercept=True,\n",
       "              l1_ratio=0.15, learning_rate='optimal', loss='hinge',\n",
       "              max_iter=1000, n_iter_no_change=5, n_jobs=None, penalty='l2',\n",
       "              power_t=0.5, random_state=None, shuffle=True, tol=0.001,\n",
       "              validation_fraction=0.1, verbose=0, warm_start=False)"
      ]
     },
     "execution_count": 29,
     "metadata": {},
     "output_type": "execute_result"
    }
   ],
   "source": [
    "#classifier = MultinomialNB()\n",
    "classifier = SGDClassifier()\n",
    "\n",
    "classifier.fit(X_train, y_train)"
   ]
  },
  {
   "cell_type": "markdown",
   "metadata": {},
   "source": [
    "### 4. Validate"
   ]
  },
  {
   "cell_type": "code",
   "execution_count": 33,
   "metadata": {},
   "outputs": [
    {
     "name": "stdout",
     "output_type": "stream",
     "text": [
      "Score: 0.55\n",
      "Cross-validation accuracy: 0.50 (+/- 0.15)\n"
     ]
    }
   ],
   "source": [
    "# Prediction accuracy score for testing data\n",
    "print(\"Score: %0.2f\" % classifier.score(X_test, y_test))\n",
    "\n",
    "# Cross-validation\n",
    "X = np.vstack((X_train, X_test))\n",
    "y = np.hstack((y_train, y_test))\n",
    "cv_scores = cross_val_score(classifier, X, y)\n",
    "print(\"Cross-validation accuracy: %0.2f (+/- %0.2f)\" % (cv_scores.mean(), cv_scores.std() * 2))"
   ]
  }
 ],
 "metadata": {
  "kernelspec": {
   "display_name": "aalto-sci-project",
   "language": "python",
   "name": "aalto-sci-project"
  },
  "language_info": {
   "codemirror_mode": {
    "name": "ipython",
    "version": 3
   },
   "file_extension": ".py",
   "mimetype": "text/x-python",
   "name": "python",
   "nbconvert_exporter": "python",
   "pygments_lexer": "ipython3",
   "version": "3.7.6"
  }
 },
 "nbformat": 4,
 "nbformat_minor": 4
}
