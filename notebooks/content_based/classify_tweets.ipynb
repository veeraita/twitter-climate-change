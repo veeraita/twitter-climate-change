{
 "cells": [
  {
   "cell_type": "markdown",
   "metadata": {},
   "source": [
    "### 1. Load data"
   ]
  },
  {
   "cell_type": "code",
   "execution_count": 36,
   "metadata": {},
   "outputs": [],
   "source": [
    "import pandas as pd\n",
    "import numpy as np\n",
    "import matplotlib.pyplot as plt\n",
    "import itertools\n",
    "from sklearn.naive_bayes import MultinomialNB, ComplementNB # naive Bayes\n",
    "from sklearn.linear_model import SGDClassifier # SVM\n",
    "from sklearn.model_selection import cross_val_score\n",
    "from sklearn.metrics import confusion_matrix\n",
    "%matplotlib inline"
   ]
  },
  {
   "cell_type": "code",
   "execution_count": 34,
   "metadata": {},
   "outputs": [
    {
     "name": "stdout",
     "output_type": "stream",
     "text": [
      "(146, 222) (49, 222)\n",
      "['action' 'air' 'air pollution' 'also' 'amount' 'amp' 'anti' 'april'\n",
      " 'around' 'back' 'bad' 'barackobama' 'become' 'big' 'bin' 'biodiversity'\n",
      " 'building' 'business' 'call' 'cant' 'car' 'carbon' 'cause' 'change'\n",
      " 'change denier' 'child' 'city' 'clear' 'climate' 'climate change'\n",
      " 'climatechange' 'close' 'co' 'consequence' 'construction' 'continue'\n",
      " 'control' 'coronavirus' 'coronavirus covid' 'could' 'covid' 'create'\n",
      " 'crisis' 'cut' 'day' 'deal' 'death' 'denial' 'denier' 'deniers' 'didnt'\n",
      " 'die' 'distance' 'doesnt' 'dont' 'drive' 'due' 'earth' 'economy' 'else'\n",
      " 'emergency' 'emission' 'emission standard' 'energy' 'environment' 'epa'\n",
      " 'especially' 'even' 'every' 'fall' 'far' 'find' 'first' 'food' 'fossil'\n",
      " 'fossil fuel' 'fuel' 'garden' 'gas' 'get' 'give' 'global' 'global warm'\n",
      " 'go' 'good' 'good thing' 'google' 'government' 'great' 'green' 'grow'\n",
      " 'guy' 'health' 'help' 'hes' 'hey' 'high' 'hoax' 'human' 'im' 'impact'\n",
      " 'important' 'improve' 'increase' 'international' 'ive' 'keep' 'kill'\n",
      " 'know' 'land' 'last' 'lead' 'learn' 'less' 'level' 'life' 'like' 'living'\n",
      " 'long' 'look' 'lot' 'make' 'mar' 'may' 'mean' 'might' 'money' 'move'\n",
      " 'much' 'must' 'natural' 'need' 'never' 'new' 'news' 'obama' 'oil' 'one'\n",
      " 'pandemic' 'part' 'people' 'planet' 'planning' 'plastic' 'plastic waste'\n",
      " 'pollution' 'problem' 'protect' 'public' 'push' 'put' 'question' 'rather'\n",
      " 'realdonaldtrump' 'reality' 'really' 'recycle' 'recycle bin' 'reduce'\n",
      " 'regard' 'report' 'right' 'roll' 'rule' 'run' 'save' 'say' 'science'\n",
      " 'sea' 'see' 'service' 'set' 'situation' 'social' 'sound' 'standard'\n",
      " 'start' 'still' 'stop' 'sustainability' 'sustainable' 'system' 'tackle'\n",
      " 'tackle climate' 'take' 'talk' 'thats' 'theres' 'thing' 'think' 'thought'\n",
      " 'threat' 'throughout' 'time' 'today' 'trump' 'turn' 'un' 'us' 'use'\n",
      " 'usually' 'vehicle' 'vehicle emission' 'virus' 'want' 'warm' 'waste'\n",
      " 'water' 'way' 'week' 'well' 'whether' 'without' 'wonder' 'work' 'worker'\n",
      " 'world' 'would' 'year' 'years' 'yet' 'youre' 'Label']\n"
     ]
    }
   ],
   "source": [
    "train_fpath = '/home/veera/LST_project/toy_data/train_data.csv'\n",
    "test_fpath = '/home/veera/LST_project/toy_data/test_data.csv'\n",
    "labels_col_name = 'Label'\n",
    "id_col_name = 'id_str'\n",
    "\n",
    "def download_from_csv(filename):\n",
    "    # Helper for creating a matrix (ndarray) out of csv data\n",
    "    df = pd.read_csv(filename, header=0, index_col=id_col_name)\n",
    "    feature_names = np.asarray(df.columns.values) \n",
    "    features = df.drop(labels_col_name, axis=1).values\n",
    "    labels = df[labels_col_name].values\n",
    "\n",
    "    return features, labels, feature_names\n",
    "\n",
    "X_train, y_train, feature_names = download_from_csv(train_fpath)\n",
    "X_test, y_test, _ = download_from_csv(test_fpath)\n",
    "\n",
    "print(X_train.shape, X_test.shape)\n",
    "print(feature_names)"
   ]
  },
  {
   "cell_type": "markdown",
   "metadata": {},
   "source": [
    "### 2. Explorative data analysis"
   ]
  },
  {
   "cell_type": "code",
   "execution_count": 3,
   "metadata": {},
   "outputs": [
    {
     "data": {
      "image/png": "[encoded data removed]",
      "text/plain": [
       "<Figure size 360x360 with 1 Axes>"
      ]
     },
     "metadata": {
      "needs_background": "light"
     },
     "output_type": "display_data"
    }
   ],
   "source": [
    "# visualize class distribution\n",
    "fig1, ax = plt.subplots(1, 1, figsize=(5, 5))\n",
    "hist = ax.hist(y_train, bins=np.arange(0.5, 5.5, 1), alpha=0.5, ec='black', rwidth=0.8)\n",
    "ax.xaxis.set_ticks([i for i in range(1, 5)])\n",
    "ax.set_title('Distribution of different classes in training data')\n",
    "\n",
    "plt.show()"
   ]
  },
  {
   "cell_type": "markdown",
   "metadata": {},
   "source": [
    "### 3. Fit model "
   ]
  },
  {
   "cell_type": "code",
   "execution_count": 40,
   "metadata": {},
   "outputs": [
    {
     "data": {
      "text/plain": [
       "SGDClassifier(alpha=0.0001, average=False, class_weight='balanced',\n",
       "              early_stopping=False, epsilon=0.1, eta0=0.0, fit_intercept=True,\n",
       "              l1_ratio=0.15, learning_rate='optimal', loss='hinge',\n",
       "              max_iter=1000, n_iter_no_change=5, n_jobs=None, penalty='l2',\n",
       "              power_t=0.5, random_state=None, shuffle=True, tol=0.001,\n",
       "              validation_fraction=0.1, verbose=0, warm_start=False)"
      ]
     },
     "execution_count": 40,
     "metadata": {},
     "output_type": "execute_result"
    }
   ],
   "source": [
    "# Unbalanced class weights\n",
    "\n",
    "#classifier = ComplementNB()\n",
    "classifier = SGDClassifier()\n",
    "\n",
    "classifier.fit(X_train, y_train)\n",
    "\n",
    "# Balanced class weights\n",
    "\n",
    "classifier_balanced = SGDClassifier(class_weight='balanced')\n",
    "\n",
    "classifier_balanced.fit(X_train, y_train)"
   ]
  },
  {
   "cell_type": "markdown",
   "metadata": {},
   "source": [
    "### 4. Validate"
   ]
  },
  {
   "cell_type": "code",
   "execution_count": 41,
   "metadata": {},
   "outputs": [
    {
     "name": "stdout",
     "output_type": "stream",
     "text": [
      "Score (unbalanced classes): 0.59\n",
      "Cross-validation accuracy (unbalanced classes): 0.48 (+/- 0.05)\n",
      "Score (balanced classes): 0.47\n",
      "Cross-validation accuracy (balanced classes): 0.50 (+/- 0.08)\n"
     ]
    }
   ],
   "source": [
    "# Prediction accuracy score for testing data\n",
    "print(\"Score (unbalanced classes): %0.2f\" % classifier.score(X_test, y_test))\n",
    "\n",
    "# Cross-validation\n",
    "X = np.vstack((X_train, X_test))\n",
    "y = np.hstack((y_train, y_test))\n",
    "cv_scores = cross_val_score(classifier, X, y)\n",
    "print(\"Cross-validation accuracy (unbalanced classes): %0.2f (+/- %0.2f)\" % (cv_scores.mean(), cv_scores.std() * 2))\n",
    "\n",
    "# Same for balanced classes\n",
    "print(\"Score (balanced classes): %0.2f\" % classifier_balanced.score(X_test, y_test))\n",
    "\n",
    "# Cross-validation\n",
    "X = np.vstack((X_train, X_test))\n",
    "y = np.hstack((y_train, y_test))\n",
    "cv_scores = cross_val_score(classifier_balanced, X, y)\n",
    "print(\"Cross-validation accuracy (balanced classes): %0.2f (+/- %0.2f)\" % (cv_scores.mean(), cv_scores.std() * 2))"
   ]
  },
  {
   "cell_type": "code",
   "execution_count": 42,
   "metadata": {},
   "outputs": [],
   "source": [
    "# Confusion matrix\n",
    "def plot_confusion_matrix(cm, classes,\n",
    "                          normalize=False,\n",
    "                          title='Confusion matrix',\n",
    "                          cmap=plt.cm.Blues):\n",
    "    if normalize:\n",
    "        cm = cm.astype('float') / cm.sum(axis=1)[:, np.newaxis]\n",
    "\n",
    "    plt.imshow(cm, interpolation='nearest', cmap=cmap)\n",
    "    plt.title(title)\n",
    "    plt.colorbar()\n",
    "    tick_marks = np.arange(len(classes))\n",
    "    plt.xticks(tick_marks, classes, rotation=45)\n",
    "    plt.yticks(tick_marks, classes)\n",
    "\n",
    "    fmt = '.2f' if normalize else 'd'\n",
    "    thresh = cm.max() / 2.\n",
    "    for i, j in itertools.product(range(cm.shape[0]), range(cm.shape[1])):\n",
    "        plt.text(j, i, format(cm[i, j], fmt),\n",
    "                 horizontalalignment=\"center\",\n",
    "                 color=\"white\" if cm[i, j] > thresh else \"black\")\n",
    "\n",
    "    plt.tight_layout()\n",
    "    plt.ylabel('True label')\n",
    "    plt.xlabel('Predicted label')"
   ]
  },
  {
   "cell_type": "code",
   "execution_count": 43,
   "metadata": {},
   "outputs": [
    {
     "data": {
      "image/png": "[encoded data removed]",
      "text/plain": [
       "<Figure size 864x288 with 4 Axes>"
      ]
     },
     "metadata": {
      "needs_background": "light"
     },
     "output_type": "display_data"
    }
   ],
   "source": [
    "# Compute confusion matrix\n",
    "class_labels = [str(i+1) for i in range(4)]\n",
    "y_pred = classifier.predict(X_test)\n",
    "y_pred_balanced = classifier_balanced.predict(X_test)\n",
    "cnf_matrix = confusion_matrix(y_test, y_pred)\n",
    "cnf_matrix_balanced = confusion_matrix(y_test, y_pred_balanced)\n",
    "np.set_printoptions(precision=2)\n",
    "\n",
    "# Plot normalized confusion matrices\n",
    "plt.figure(figsize=(12, 4))\n",
    "plt.subplot(121) \n",
    "plot_confusion_matrix(cnf_matrix, classes=class_labels, normalize=True,\n",
    "                      title='Normalized confusion matrix, no balancing of classes')\n",
    "plt.subplot(122) \n",
    "plot_confusion_matrix(cnf_matrix_balanced, classes=class_labels, normalize=True,\n",
    "                      title='Normalized confusion matrix with balancing of classes')"
   ]
  },
  {
   "cell_type": "code",
   "execution_count": 44,
   "metadata": {},
   "outputs": [
    {
     "name": "stdout",
     "output_type": "stream",
     "text": [
      "Top 10 keywords per class:\n",
      "1: health, earth, land, death, die, kill, big, green, create, coronavirus\n",
      "2: usually, still, hoax, un, carbon, pollution, barackobama, increase, guy, way\n",
      "3: part, distance, co, city, action, really, rule, also, lead, think\n",
      "4: pollution, lot, could, anti, drive, food, work, get, bad, recycle\n"
     ]
    }
   ],
   "source": [
    "print(\"Top 10 keywords per class:\")\n",
    "for i in range(4):\n",
    "    top10 = np.argsort(classifier.coef_[i])[-10:]\n",
    "    print(\"%s: %s\" % (i+1, \", \".join(feature_names[top10])))"
   ]
  }
 ],
 "metadata": {
  "kernelspec": {
   "display_name": "aalto-sci-project",
   "language": "python",
   "name": "aalto-sci-project"
  },
  "language_info": {
   "codemirror_mode": {
    "name": "ipython",
    "version": 3
   },
   "file_extension": ".py",
   "mimetype": "text/x-python",
   "name": "python",
   "nbconvert_exporter": "python",
   "pygments_lexer": "ipython3",
   "version": "3.7.6"
  }
 },
 "nbformat": 4,
 "nbformat_minor": 4
}
