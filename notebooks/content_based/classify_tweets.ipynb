{
 "cells": [
  {
   "cell_type": "markdown",
   "metadata": {},
   "source": [
    "### 1. Load data"
   ]
  },
  {
   "cell_type": "code",
   "execution_count": 30,
   "metadata": {},
   "outputs": [],
   "source": [
    "import pandas as pd\n",
    "import numpy as np\n",
    "import matplotlib.pyplot as plt\n",
    "import itertools\n",
    "from sklearn.naive_bayes import MultinomialNB, ComplementNB # naive Bayes\n",
    "from sklearn.linear_model import SGDClassifier # SVM\n",
    "from sklearn.model_selection import cross_val_score\n",
    "from sklearn.metrics import confusion_matrix, f1_score, precision_score, recall_score\n",
    "%matplotlib inline"
   ]
  },
  {
   "cell_type": "code",
   "execution_count": 2,
   "metadata": {},
   "outputs": [
    {
     "name": "stdout",
     "output_type": "stream",
     "text": [
      "(780, 500) (260, 500)\n",
      "['across' 'act' 'action' 'actually' 'address' 'agenda' 'ago' 'agree'\n",
      " 'agreenergoogle' 'air' 'air pollution' 'already' 'also' 'always'\n",
      " 'america' 'american' 'amp' 'animal' 'announce' 'anyone' 'anything'\n",
      " 'appreciate' 'apr' 'apr climate' 'april' 'area' 'around' 'article' 'ask'\n",
      " 'atmosphere' 'attention' 'away' 'back' 'bad' 'bag' 'barackobama' 'base'\n",
      " 'beautiful' 'become' 'begin' 'believe' 'bernie' 'best' 'biden' 'big'\n",
      " 'billion' 'bin' 'biodiversity' 'bit' 'blue' 'box' 'building' 'business'\n",
      " 'call' 'cant' 'car' 'carbon' 'carbon footprint' 'care' 'case' 'cause'\n",
      " 'challenge' 'change' 'change denial' 'check' 'child' 'china' 'city'\n",
      " 'claim' 'clean' 'clear' 'climate' 'climate action' 'climate change'\n",
      " 'climate crisis' 'climate hi' 'climatechange' 'climatecrisis' 'close'\n",
      " 'co' 'coal' 'come' 'community' 'company' 'consequence' 'consider'\n",
      " 'content' 'continue' 'control' 'cop' 'corona' 'coronavirus' 'could'\n",
      " 'country' 'course' 'covid' 'create' 'crisis' 'current' 'cut' 'date' 'day'\n",
      " 'deal' 'death' 'debt' 'decide' 'demand' 'denial' 'deny' 'development'\n",
      " 'didnt' 'die' 'difference' 'different' 'dioxide' 'doesnt' 'dont' 'dr'\n",
      " 'drive' 'drop' 'due' 'earth' 'eat' 'ecological' 'economic' 'economy'\n",
      " 'effect' 'either' 'emission' 'emission standard' 'emissions' 'end'\n",
      " 'energy' 'enjoy' 'enough' 'ensure' 'environment' 'environmental' 'epa'\n",
      " 'especially' 'etc' 'even' 'ever' 'every' 'every day' 'everyone'\n",
      " 'everything' 'expect' 'face' 'fact' 'fall' 'family' 'far' 'fear' 'feel'\n",
      " 'fight' 'fight climate' 'find' 'first' 'fly' 'focus' 'follow' 'food'\n",
      " 'footprint' 'form' 'forward' 'fossil' 'fossil fuel' 'free' 'fuck' 'fuel'\n",
      " 'full' 'funding' 'funding climate' 'future' 'gas' 'get' 'give' 'glasgow'\n",
      " 'global' 'global warm' 'globalwarming' 'go' 'god' 'gogreen' 'good'\n",
      " 'good news' 'google' 'google announce' 'gop' 'government' 'great' 'green'\n",
      " 'greenhouse' 'greta' 'group' 'grow' 'growth' 'guy' 'hand' 'happen'\n",
      " 'happy' 'hard' 'health' 'healthcare' 'help' 'hes' 'hi' 'hi lo' 'high'\n",
      " 'hoax' 'home' 'hope' 'hour' 'house' 'huge' 'human' 'humanity' 'ice'\n",
      " 'idea' 'ill' 'im' 'impact' 'important' 'increase' 'india' 'industry'\n",
      " 'info' 'information' 'instead' 'isnt' 'issue' 'ive' 'job' 'join' 'joke'\n",
      " 'keep' 'key' 'kill' 'kind' 'know' 'lack' 'land' 'large' 'last' 'late'\n",
      " 'law' 'lead' 'learn' 'left' 'less' 'let' 'lets' 'level' 'lie' 'life'\n",
      " 'light' 'like' 'link' 'listen' 'little' 'live' 'living' 'lo' 'lo precip'\n",
      " 'local' 'lockdown' 'long' 'longer' 'look' 'look like' 'lose' 'lot' 'love'\n",
      " 'low' 'make' 'man' 'many' 'market' 'massive' 'may' 'maybe' 'mean' 'might'\n",
      " 'million' 'mind' 'miss' 'model' 'money' 'month' 'mother' 'mother nature'\n",
      " 'move' 'much' 'must' 'natural' 'nature' 'need' 'never' 'new' 'news'\n",
      " 'next' 'normal' 'nothing' 'number' 'obama' 'ocean' 'offer' 'oh' 'oil'\n",
      " 'old' 'one' 'online' 'open' 'opportunity' 'order' 'others' 'outbreak'\n",
      " 'outside' 'ozone' 'pandemic' 'paper' 'part' 'pay' 'people' 'per'\n",
      " 'perhaps' 'person' 'photo' 'place' 'plan' 'planet' 'plastic' 'please'\n",
      " 'point' 'policy' 'political' 'pollution' 'population' 'possible'\n",
      " 'postpone' 'power' 'precip' 'precip snow' 'president' 'pressure' 'price'\n",
      " 'probably' 'problem' 'produce' 'product' 'production' 'project' 'protect'\n",
      " 'public' 'push' 'put' 'quarantine' 'question' 'rate' 'read' 'ready'\n",
      " 'real' 'realdonaldtrump' 'really' 'reason' 'recycle' 'recycling' 'reduce'\n",
      " 'reduction' 'report' 'require' 'research' 'resource' 'response' 'return'\n",
      " 'rich' 'right' 'risk' 'road' 'rollback' 'rule' 'run' 'safe' 'save' 'say'\n",
      " 'school' 'science' 'scientist' 'sea' 'second' 'see' 'seem' 'sense'\n",
      " 'seriously' 'service' 'set' 'share' 'shit' 'show' 'shut' 'side' 'since'\n",
      " 'single' 'situation' 'sky' 'smart' 'snow' 'social' 'society' 'solar'\n",
      " 'solution' 'someone' 'something' 'sound' 'space' 'spread' 'standard'\n",
      " 'start' 'state' 'stay' 'step' 'still' 'stop' 'stop funding' 'story'\n",
      " 'strong' 'support' 'sure' 'sustainability' 'sustainable' 'system' 'take'\n",
      " 'talk' 'tax' 'tell' 'term' 'test' 'thank' 'thanks' 'thats' 'theres'\n",
      " 'thing' 'think' 'though' 'thought' 'threat' 'threaten' 'time' 'today'\n",
      " 'top' 'tree' 'trump' 'try' 'turn' 'two' 'uk' 'un' 'understand' 'us' 'use'\n",
      " 'vehicle' 'vehicle emission' 'via' 'video' 'virus' 'vote' 'wait' 'walk'\n",
      " 'want' 'war' 'warm' 'waste' 'watch' 'water' 'way' 'week' 'well' 'weve'\n",
      " 'whats' 'whether' 'win' 'within' 'without' 'woman' 'wonder' 'wont' 'work'\n",
      " 'worker' 'world' 'worried' 'would' 'wrong' 'yeah' 'year' 'year ago'\n",
      " 'years' 'yet' 'young' 'youre' 'Label']\n"
     ]
    }
   ],
   "source": [
    "train_fpath = '/home/veera/LST_project/data/train_data.csv'\n",
    "test_fpath = '/home/veera/LST_project/data/test_data.csv'\n",
    "labels_col_name = 'Label'\n",
    "id_col_name = 'id_str'\n",
    "\n",
    "def download_from_csv(filename):\n",
    "    # Helper for creating a matrix (ndarray) out of csv data\n",
    "    df = pd.read_csv(filename, header=0, index_col=id_col_name)\n",
    "    feature_names = np.asarray(df.columns.values) \n",
    "    features = df.drop(labels_col_name, axis=1).values\n",
    "    labels = df[labels_col_name].values\n",
    "\n",
    "    return features, labels, feature_names\n",
    "\n",
    "X_train, y_train, feature_names = download_from_csv(train_fpath)\n",
    "X_test, y_test, _ = download_from_csv(test_fpath)\n",
    "\n",
    "print(X_train.shape, X_test.shape)\n",
    "print(feature_names)"
   ]
  },
  {
   "cell_type": "markdown",
   "metadata": {},
   "source": [
    "### 2. Explorative data analysis"
   ]
  },
  {
   "cell_type": "code",
   "execution_count": 3,
   "metadata": {},
   "outputs": [
    {
     "data": {
      "image/png": "[encoded data removed]",
      "text/plain": [
       "<Figure size 360x360 with 1 Axes>"
      ]
     },
     "metadata": {
      "needs_background": "light"
     },
     "output_type": "display_data"
    }
   ],
   "source": [
    "# visualize class distribution\n",
    "fig1, ax = plt.subplots(1, 1, figsize=(5, 5))\n",
    "hist = ax.hist(y_train, bins=np.arange(0.5, 5.5, 1), alpha=0.5, ec='black', rwidth=0.8)\n",
    "ax.xaxis.set_ticks([i for i in range(1, 5)])\n",
    "ax.set_title('Distribution of different classes in training data')\n",
    "\n",
    "plt.show()"
   ]
  },
  {
   "cell_type": "markdown",
   "metadata": {},
   "source": [
    "### 3. Fit model "
   ]
  },
  {
   "cell_type": "code",
   "execution_count": 11,
   "metadata": {},
   "outputs": [
    {
     "data": {
      "text/plain": [
       "SGDClassifier(alpha=0.0001, average=False, class_weight='balanced',\n",
       "              early_stopping=False, epsilon=0.1, eta0=0.0, fit_intercept=True,\n",
       "              l1_ratio=0.15, learning_rate='optimal', loss='hinge',\n",
       "              max_iter=1000, n_iter_no_change=5, n_jobs=None, penalty='l2',\n",
       "              power_t=0.5, random_state=None, shuffle=True, tol=0.001,\n",
       "              validation_fraction=0.1, verbose=0, warm_start=False)"
      ]
     },
     "execution_count": 11,
     "metadata": {},
     "output_type": "execute_result"
    }
   ],
   "source": [
    "# Unbalanced class weights\n",
    "\n",
    "classifier_nb = ComplementNB()\n",
    "classifier_sgd = SGDClassifier()\n",
    "\n",
    "classifier_nb.fit(X_train, y_train)\n",
    "classifier_sgd.fit(X_train, y_train)\n",
    "\n",
    "# Balanced class weights\n",
    "\n",
    "classifier_sgd_balanced = SGDClassifier(class_weight='balanced')\n",
    "\n",
    "classifier_sgd_balanced.fit(X_train, y_train)"
   ]
  },
  {
   "cell_type": "markdown",
   "metadata": {},
   "source": [
    "### 4. Validate"
   ]
  },
  {
   "cell_type": "code",
   "execution_count": 36,
   "metadata": {},
   "outputs": [
    {
     "name": "stdout",
     "output_type": "stream",
     "text": [
      "Naive Bayes\n",
      "Score: 0.600\n",
      "Cross-validation accuracy: 0.599 (+/- 0.05)\n",
      "Precision: 0.423\n",
      "Recall: 0.429\n",
      "F1 score: 0.424\n",
      "--------------------------------------------------\n",
      "SVM\n",
      "Score: 0.631\n",
      "Cross-validation accuracy: 0.612 (+/- 0.05)\n",
      "Precision: 0.493\n",
      "Recall: 0.471\n",
      "F1 score: 0.477\n",
      "--------------------------------------------------\n",
      "SVM with balanced classes\n",
      "Score: 0.615\n",
      "Cross-validation accuracy: 0.614 (+/- 0.05)\n",
      "Precision: 0.456\n",
      "Recall: 0.443\n",
      "F1 score: 0.447\n",
      "--------------------------------------------------\n"
     ]
    }
   ],
   "source": [
    "classifiers = [(classifier_nb, 'Naive Bayes'), (classifier_sgd, 'SVM'), (classifier_sgd_balanced, 'SVM with balanced classes')]\n",
    "\n",
    "for clf, title in classifiers:\n",
    "    print(title)\n",
    "    # Prediction accuracy score for testing data\n",
    "    print(\"Score: %0.3f\" % clf.score(X_test, y_test))\n",
    "    X = np.vstack((X_train, X_test))\n",
    "    y = np.hstack((y_train, y_test))\n",
    "    cv_scores = cross_val_score(clf, X, y)\n",
    "    print(\"Cross-validation accuracy: %0.3f (+/- %0.2f)\" % (cv_scores.mean(), cv_scores.std() * 2))\n",
    "    y_pred = clf.predict(X_test)\n",
    "    print(\"Precision: %0.3f\" % precision_score(y_test, y_pred, average='macro'))\n",
    "    print(\"Recall: %0.3f\" % recall_score(y_test, y_pred, average='macro'))\n",
    "    print(\"F1 score: %0.3f\" % f1_score(y_test, y_pred, average='macro'))\n",
    "    print('-' * 50)"
   ]
  },
  {
   "cell_type": "code",
   "execution_count": 37,
   "metadata": {},
   "outputs": [],
   "source": [
    "# Confusion matrix\n",
    "def plot_confusion_matrix(cm, classes,\n",
    "                          normalize=False,\n",
    "                          title='Confusion matrix',\n",
    "                          cmap=plt.cm.Blues):\n",
    "    if normalize:\n",
    "        cm = cm.astype('float') / cm.sum(axis=1)[:, np.newaxis]\n",
    "\n",
    "    plt.imshow(cm, interpolation='nearest', cmap=cmap)\n",
    "    plt.title(title)\n",
    "    plt.colorbar()\n",
    "    tick_marks = np.arange(len(classes))\n",
    "    plt.xticks(tick_marks, classes, rotation=45)\n",
    "    plt.yticks(tick_marks, classes)\n",
    "\n",
    "    fmt = '.2f' if normalize else 'd'\n",
    "    thresh = cm.max() / 2.\n",
    "    for i, j in itertools.product(range(cm.shape[0]), range(cm.shape[1])):\n",
    "        plt.text(j, i, format(cm[i, j], fmt),\n",
    "                 horizontalalignment=\"center\",\n",
    "                 color=\"white\" if cm[i, j] > thresh else \"black\")\n",
    "\n",
    "    plt.tight_layout()\n",
    "    plt.ylabel('True label')\n",
    "    plt.xlabel('Predicted label')"
   ]
  },
  {
   "cell_type": "code",
   "execution_count": 38,
   "metadata": {},
   "outputs": [
    {
     "data": {
      "image/png": "[encoded data removed]",
      "text/plain": [
       "<Figure size 1152x360 with 6 Axes>"
      ]
     },
     "metadata": {
      "needs_background": "light"
     },
     "output_type": "display_data"
    }
   ],
   "source": [
    "# Compute confusion matrix\n",
    "class_labels = [str(i+1) for i in range(4)]\n",
    "y_pred_nb = classifier_sgd.predict(X_test)\n",
    "y_pred_sgd = classifier_sgd.predict(X_test)\n",
    "y_pred_sgd_balanced = classifier_sgd_balanced.predict(X_test)\n",
    "cnf_matrix_nb = confusion_matrix(y_test, y_pred_nb)\n",
    "cnf_matrix_sgd = confusion_matrix(y_test, y_pred_sgd)\n",
    "cnf_matrix_sgd_balanced = confusion_matrix(y_test, y_pred_sgd_balanced)\n",
    "np.set_printoptions(precision=2)\n",
    "\n",
    "# Plot normalized confusion matrices\n",
    "plt.figure(figsize=(16, 5))\n",
    "plt.subplot(131) \n",
    "plot_confusion_matrix(cnf_matrix_nb, classes=class_labels, normalize=True,\n",
    "                      title='Normalized confusion matrix, Naive Bayes')\n",
    "plt.subplot(132) \n",
    "plot_confusion_matrix(cnf_matrix_sgd, classes=class_labels, normalize=True,\n",
    "                      title='Normalized confusion matrix, SVM')\n",
    "plt.subplot(133) \n",
    "plot_confusion_matrix(cnf_matrix_sgd_balanced, classes=class_labels, normalize=True,\n",
    "                      title='Normalized confusion matrix, SVM with balancing of classes')"
   ]
  },
  {
   "cell_type": "code",
   "execution_count": 39,
   "metadata": {},
   "outputs": [
    {
     "name": "stdout",
     "output_type": "stream",
     "text": [
      "Top 10 keywords per class:\n",
      "1: climatecrisis, reduction, change denial, google announce, gop, growth, coal, climate action, climate crisis, challenge\n",
      "2: strong, society, deny, resource, single, huge, ice, model, shit, forward\n",
      "3: point, fall, within, forward, vote, society, ecological, greenhouse, model, globalwarming\n",
      "4: hour, beautiful, lo precip, apr climate, date, bag, climate hi, love, seem, market\n"
     ]
    }
   ],
   "source": [
    "print(\"Top 10 keywords per class:\")\n",
    "for i in range(4):\n",
    "    top10 = np.argsort(classifier.coef_[i])[-10:]\n",
    "    print(\"%s: %s\" % (i+1, \", \".join(feature_names[top10])))"
   ]
  }
 ],
 "metadata": {
  "kernelspec": {
   "display_name": "aalto-sci-project",
   "language": "python",
   "name": "aalto-sci-project"
  },
  "language_info": {
   "codemirror_mode": {
    "name": "ipython",
    "version": 3
   },
   "file_extension": ".py",
   "mimetype": "text/x-python",
   "name": "python",
   "nbconvert_exporter": "python",
   "pygments_lexer": "ipython3",
   "version": "3.7.6"
  }
 },
 "nbformat": 4,
 "nbformat_minor": 4
}
