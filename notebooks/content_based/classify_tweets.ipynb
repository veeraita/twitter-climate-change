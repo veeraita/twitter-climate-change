{
 "cells": [
  {
   "cell_type": "markdown",
   "metadata": {},
   "source": [
    "### 1. Load data"
   ]
  },
  {
   "cell_type": "code",
   "execution_count": 1,
   "metadata": {},
   "outputs": [],
   "source": [
    "import os.path as op\n",
    "import pandas as pd\n",
    "import numpy as np\n",
    "import matplotlib.pyplot as plt\n",
    "import itertools\n",
    "from sklearn.naive_bayes import MultinomialNB, ComplementNB # naive Bayes\n",
    "from sklearn.linear_model import SGDClassifier # SVM\n",
    "from sklearn.model_selection import cross_val_score, StratifiedKFold\n",
    "from sklearn.metrics import confusion_matrix, f1_score, precision_score, recall_score, cohen_kappa_score\n",
    "%matplotlib inline"
   ]
  },
  {
   "cell_type": "code",
   "execution_count": 2,
   "metadata": {},
   "outputs": [
    {
     "name": "stdout",
     "output_type": "stream",
     "text": [
      "(1040, 500)\n",
      "['across' 'act' 'action' 'actually' 'address' 'agenda' 'ago' 'agree'\n",
      " 'agreenergoogle' 'air' 'air pollution' 'already' 'also' 'always'\n",
      " 'america' 'american' 'amp' 'animal' 'announce' 'anyone' 'anything'\n",
      " 'appreciate' 'apr' 'apr climate' 'april' 'area' 'around' 'article' 'ask'\n",
      " 'atmosphere' 'attention' 'away' 'back' 'bad' 'bag' 'barackobama' 'base'\n",
      " 'beautiful' 'become' 'begin' 'believe' 'bernie' 'best' 'biden' 'big'\n",
      " 'billion' 'bin' 'biodiversity' 'bit' 'blue' 'box' 'building' 'business'\n",
      " 'call' 'cant' 'car' 'carbon' 'carbon footprint' 'care' 'case' 'cause'\n",
      " 'challenge' 'change' 'change denial' 'check' 'child' 'china' 'city'\n",
      " 'claim' 'clean' 'clear' 'climate' 'climate action' 'climate change'\n",
      " 'climate crisis' 'climate hi' 'climatechange' 'climatecrisis' 'close'\n",
      " 'co' 'coal' 'come' 'community' 'company' 'consequence' 'consider'\n",
      " 'content' 'continue' 'control' 'cop' 'corona' 'coronavirus' 'could'\n",
      " 'country' 'course' 'covid' 'create' 'crisis' 'current' 'cut' 'date' 'day'\n",
      " 'deal' 'death' 'debt' 'decide' 'demand' 'denial' 'deny' 'development'\n",
      " 'didnt' 'die' 'difference' 'different' 'dioxide' 'doesnt' 'dont' 'dr'\n",
      " 'drive' 'drop' 'due' 'earth' 'eat' 'ecological' 'economic' 'economy'\n",
      " 'effect' 'either' 'emission' 'emission standard' 'emissions' 'end'\n",
      " 'energy' 'enjoy' 'enough' 'ensure' 'environment' 'environmental' 'epa'\n",
      " 'especially' 'etc' 'even' 'ever' 'every' 'every day' 'everyone'\n",
      " 'everything' 'expect' 'face' 'fact' 'fall' 'family' 'far' 'fear' 'feel'\n",
      " 'fight' 'fight climate' 'find' 'first' 'fly' 'focus' 'follow' 'food'\n",
      " 'footprint' 'form' 'forward' 'fossil' 'fossil fuel' 'free' 'fuck' 'fuel'\n",
      " 'full' 'funding' 'funding climate' 'future' 'gas' 'get' 'give' 'glasgow'\n",
      " 'global' 'global warm' 'globalwarming' 'go' 'god' 'gogreen' 'good'\n",
      " 'good news' 'google' 'google announce' 'gop' 'government' 'great' 'green'\n",
      " 'greenhouse' 'greta' 'group' 'grow' 'growth' 'guy' 'hand' 'happen'\n",
      " 'happy' 'hard' 'health' 'healthcare' 'help' 'hes' 'hi' 'hi lo' 'high'\n",
      " 'hoax' 'home' 'hope' 'hour' 'house' 'huge' 'human' 'humanity' 'ice'\n",
      " 'idea' 'ill' 'im' 'impact' 'important' 'increase' 'india' 'industry'\n",
      " 'info' 'information' 'instead' 'isnt' 'issue' 'ive' 'job' 'join' 'joke'\n",
      " 'keep' 'key' 'kill' 'kind' 'know' 'lack' 'land' 'large' 'last' 'late'\n",
      " 'law' 'lead' 'learn' 'left' 'less' 'let' 'lets' 'level' 'lie' 'life'\n",
      " 'light' 'like' 'link' 'listen' 'little' 'live' 'living' 'lo' 'lo precip'\n",
      " 'local' 'lockdown' 'long' 'longer' 'look' 'look like' 'lose' 'lot' 'love'\n",
      " 'low' 'make' 'man' 'many' 'market' 'massive' 'may' 'maybe' 'mean' 'might'\n",
      " 'million' 'mind' 'miss' 'model' 'money' 'month' 'mother' 'mother nature'\n",
      " 'move' 'much' 'must' 'natural' 'nature' 'need' 'never' 'new' 'news'\n",
      " 'next' 'normal' 'nothing' 'number' 'obama' 'ocean' 'offer' 'oh' 'oil'\n",
      " 'old' 'one' 'online' 'open' 'opportunity' 'order' 'others' 'outbreak'\n",
      " 'outside' 'ozone' 'pandemic' 'paper' 'part' 'pay' 'people' 'per'\n",
      " 'perhaps' 'person' 'photo' 'place' 'plan' 'planet' 'plastic' 'please'\n",
      " 'point' 'policy' 'political' 'pollution' 'population' 'possible'\n",
      " 'postpone' 'power' 'precip' 'precip snow' 'president' 'pressure' 'price'\n",
      " 'probably' 'problem' 'produce' 'product' 'production' 'project' 'protect'\n",
      " 'public' 'push' 'put' 'quarantine' 'question' 'rate' 'read' 'ready'\n",
      " 'real' 'realdonaldtrump' 'really' 'reason' 'recycle' 'recycling' 'reduce'\n",
      " 'reduction' 'report' 'require' 'research' 'resource' 'response' 'return'\n",
      " 'rich' 'right' 'risk' 'road' 'rollback' 'rule' 'run' 'safe' 'save' 'say'\n",
      " 'school' 'science' 'scientist' 'sea' 'second' 'see' 'seem' 'sense'\n",
      " 'seriously' 'service' 'set' 'share' 'shit' 'show' 'shut' 'side' 'since'\n",
      " 'single' 'situation' 'sky' 'smart' 'snow' 'social' 'society' 'solar'\n",
      " 'solution' 'someone' 'something' 'sound' 'space' 'spread' 'standard'\n",
      " 'start' 'state' 'stay' 'step' 'still' 'stop' 'stop funding' 'story'\n",
      " 'strong' 'support' 'sure' 'sustainability' 'sustainable' 'system' 'take'\n",
      " 'talk' 'tax' 'tell' 'term' 'test' 'thank' 'thanks' 'thats' 'theres'\n",
      " 'thing' 'think' 'though' 'thought' 'threat' 'threaten' 'time' 'today'\n",
      " 'top' 'tree' 'trump' 'try' 'turn' 'two' 'uk' 'un' 'understand' 'us' 'use'\n",
      " 'vehicle' 'vehicle emission' 'via' 'video' 'virus' 'vote' 'wait' 'walk'\n",
      " 'want' 'war' 'warm' 'waste' 'watch' 'water' 'way' 'week' 'well' 'weve'\n",
      " 'whats' 'whether' 'win' 'within' 'without' 'woman' 'wonder' 'wont' 'work'\n",
      " 'worker' 'world' 'worried' 'would' 'wrong' 'yeah' 'year' 'year ago'\n",
      " 'years' 'yet' 'young' 'youre']\n"
     ]
    }
   ],
   "source": [
    "#train_fpath = '/home/veera/LST_project/data/train_data.csv'\n",
    "#test_fpath = '/home/veera/LST_project/data/test_data.csv'\n",
    "data_fpath = '/home/veera/LST_project/data/full_data.csv'\n",
    "labels_col_name = 'Label'\n",
    "id_col_name = 'id_str'\n",
    "\n",
    "def download_from_csv(filename, labelled=False):\n",
    "    # Helper for creating a matrix (ndarray) out of csv data\n",
    "    df = pd.read_csv(filename, header=0)\n",
    "    ids = df.pop(id_col_name)\n",
    "    feature_names = np.asarray(df.columns.values)\n",
    "    feature_names = feature_names[feature_names != 'Label']\n",
    "    features = df.drop(labels_col_name, axis=1).values if labelled else df.values\n",
    "    labels = df[labels_col_name].values if labelled else None       \n",
    "\n",
    "    return features, labels, feature_names, ids\n",
    "\n",
    "#X_train, y_train, feature_names = download_from_csv(train_fpath)\n",
    "#X_test, y_test, _ = download_from_csv(test_fpath)\n",
    "X, y, feature_names, ids = download_from_csv(data_fpath, labelled=True)\n",
    "#print(X_train.shape, X_test.shape)\n",
    "print(X.shape)\n",
    "print(feature_names)"
   ]
  },
  {
   "cell_type": "markdown",
   "metadata": {},
   "source": [
    "### 2. Explorative data analysis"
   ]
  },
  {
   "cell_type": "code",
   "execution_count": 3,
   "metadata": {},
   "outputs": [
    {
     "data": {
      "image/png": "[encoded data removed]",
      "text/plain": [
       "<Figure size 360x360 with 1 Axes>"
      ]
     },
     "metadata": {
      "needs_background": "light"
     },
     "output_type": "display_data"
    }
   ],
   "source": [
    "# visualize class distribution\n",
    "fig1, ax = plt.subplots(1, 1, figsize=(5, 5))\n",
    "hist = ax.hist(y, bins=np.arange(0.5, 5.5, 1), alpha=0.5, ec='black', rwidth=0.8)\n",
    "ax.xaxis.set_ticks([i for i in range(1, 5)])\n",
    "ax.set_title('Distribution of different classes in training data')\n",
    "\n",
    "plt.show()"
   ]
  },
  {
   "cell_type": "markdown",
   "metadata": {},
   "source": [
    "### 3. Define classifiers"
   ]
  },
  {
   "cell_type": "code",
   "execution_count": 4,
   "metadata": {},
   "outputs": [],
   "source": [
    "# Unbalanced class weights\n",
    "classifier_nb = ComplementNB()\n",
    "classifier_sgd = SGDClassifier()\n",
    "\n",
    "# Balanced class weights\n",
    "classifier_sgd_balanced = SGDClassifier(class_weight='balanced')"
   ]
  },
  {
   "cell_type": "markdown",
   "metadata": {},
   "source": [
    "### 4. Fit model and validate"
   ]
  },
  {
   "cell_type": "code",
   "execution_count": 5,
   "metadata": {},
   "outputs": [],
   "source": [
    "# Confusion matrix\n",
    "def plot_confusion_matrix(cm, classes,\n",
    "                          normalize=False,\n",
    "                          title='Confusion matrix',\n",
    "                          cmap=plt.cm.Blues):\n",
    "    if normalize:\n",
    "        cm = cm.astype('float') / cm.sum(axis=1)[:, np.newaxis]\n",
    "\n",
    "    plt.imshow(cm, interpolation='nearest', cmap=cmap)\n",
    "    plt.title(title)\n",
    "    plt.colorbar()\n",
    "    tick_marks = np.arange(len(classes))\n",
    "    plt.xticks(tick_marks, classes, rotation=45)\n",
    "    plt.yticks(tick_marks, classes)\n",
    "\n",
    "    fmt = '.2f' if normalize else 'd'\n",
    "    thresh = cm.max() / 2.\n",
    "    for i, j in itertools.product(range(cm.shape[0]), range(cm.shape[1])):\n",
    "        plt.text(j, i, format(cm[i, j], fmt),\n",
    "                 horizontalalignment=\"center\",\n",
    "                 color=\"white\" if cm[i, j] > thresh else \"black\")\n",
    "\n",
    "    plt.tight_layout()\n",
    "    plt.ylabel('True label')\n",
    "    plt.xlabel('Predicted label')"
   ]
  },
  {
   "cell_type": "code",
   "execution_count": 6,
   "metadata": {},
   "outputs": [],
   "source": [
    "classifiers = [(classifier_nb, 'Naive Bayes'), (classifier_sgd, 'SVM'), (classifier_sgd_balanced, 'SVM with balanced classes')]\n",
    "'''\n",
    "for clf, title in classifiers:\n",
    "    print(title)\n",
    "    # Prediction accuracy score for testing data\n",
    "    print(\"Score: %0.3f\" % clf.score(X_test, y_test))\n",
    "    X = np.vstack((X_train, X_test))\n",
    "    y = np.hstack((y_train, y_test))\n",
    "    cv_scores = cross_val_score(clf, X, y)\n",
    "    print(\"Cross-validation accuracy: %0.3f (+/- %0.2f)\" % (cv_scores.mean(), cv_scores.std() * 2))\n",
    "    y_pred = clf.predict(X_test)\n",
    "    print(\"Precision: %0.3f\" % precision_score(y_test, y_pred, average='macro'))\n",
    "    print(\"Recall: %0.3f\" % recall_score(y_test, y_pred, average='macro'))\n",
    "    print(\"F1 score: %0.3f\" % f1_score(y_test, y_pred, average='macro'))\n",
    "    print('-' * 50)\n",
    "'''\n",
    "def cv(n_splits, X, y, clf, average_method):\n",
    "    kfold = StratifiedKFold(n_splits=n_splits, shuffle=True, random_state=777)\n",
    "    accuracy = []\n",
    "    precision = []\n",
    "    recall = []\n",
    "    f1 = []\n",
    "    kappa = []\n",
    "    for train, test in kfold.split(X, y):\n",
    "        fit = clf.fit(X[train], y[train])\n",
    "        prediction = fit.predict(X[test])\n",
    "        scores = fit.score(X[test],y[test])\n",
    "        \n",
    "        accuracy.append(scores)\n",
    "        precision.append(precision_score(y[test], prediction, average=average_method))\n",
    "        print('              positive   negative    neutral  unrelated')\n",
    "        print('precision:', precision_score(y[test], prediction, average=None))\n",
    "        recall.append(recall_score(y[test], prediction, average=average_method))\n",
    "        print('recall:   ', recall_score(y[test], prediction, average=None))\n",
    "        f1.append(f1_score(y[test], prediction, average=average_method))\n",
    "        print('f1 score: ', f1_score(y[test], prediction, average=None))\n",
    "        kappa.append(cohen_kappa_score(y[test], prediction))\n",
    "        print('-' * 60)\n",
    "    cnf_matrix = confusion_matrix(y[test], prediction)\n",
    "    plt.figure()\n",
    "    plot_confusion_matrix(cnf_matrix, classes=[str(i+1) for i in range(4)], normalize=True,\n",
    "                      title='Normalized confusion matrix')\n",
    "    print(\"accuracy: %.3f (+/- %.2f)\" % (np.mean(accuracy), np.std(accuracy)))\n",
    "    print(\"precision: %.3f (+/- %.2f)\" % (np.mean(precision), np.std(precision)))\n",
    "    print(\"recall: %.3f (+/- %.2f)\" % (np.mean(recall), np.std(recall)))\n",
    "    print(\"f1 score: %.3f (+/- %.2f)\" % (np.mean(f1), np.std(f1)))\n",
    "    print('Cohen\\'s kappa: %.3f (+/- %.2f)' % (np.mean(kappa), np.std(kappa)))\n",
    "    plt.show()"
   ]
  },
  {
   "cell_type": "code",
   "execution_count": 7,
   "metadata": {},
   "outputs": [
    {
     "name": "stdout",
     "output_type": "stream",
     "text": [
      "Naive Bayes\n",
      "              positive   negative    neutral  unrelated\n",
      "precision: [0.50847458 0.33333333 0.35       0.828125  ]\n",
      "recall:    [0.75       0.28571429 0.28       0.68831169]\n",
      "f1 score:  [0.60606061 0.30769231 0.31111111 0.75177305]\n",
      "------------------------------------------------------------\n",
      "              positive   negative    neutral  unrelated\n",
      "precision: [0.46153846 0.2        0.30434783 0.74025974]\n",
      "recall:    [0.45       0.28571429 0.28       0.74025974]\n",
      "f1 score:  [0.4556962  0.23529412 0.29166667 0.74025974]\n",
      "------------------------------------------------------------\n",
      "              positive   negative    neutral  unrelated\n",
      "precision: [0.48148148 0.2        0.4375     0.87837838]\n",
      "recall:    [0.65       0.14285714 0.28       0.84415584]\n",
      "f1 score:  [0.55319149 0.16666667 0.34146341 0.86092715]\n",
      "------------------------------------------------------------\n",
      "              positive   negative    neutral  unrelated\n",
      "precision: [0.45652174 0.22222222 0.23809524 0.80821918]\n",
      "recall:    [0.525      0.33333333 0.19230769 0.76623377]\n",
      "f1 score:  [0.48837209 0.26666667 0.21276596 0.78666667]\n",
      "------------------------------------------------------------\n",
      "              positive   negative    neutral  unrelated\n",
      "precision: [0.39583333 0.14285714 0.25       0.73972603]\n",
      "recall:    [0.475      0.16666667 0.2        0.7012987 ]\n",
      "f1 score:  [0.43181818 0.15384615 0.22222222 0.72      ]\n",
      "------------------------------------------------------------\n",
      "              positive   negative    neutral  unrelated\n",
      "precision: [0.46153846 0.         0.42857143 0.81944444]\n",
      "recall:    [0.58536585 0.         0.36       0.77631579]\n",
      "f1 score:  [0.51612903 0.         0.39130435 0.7972973 ]\n",
      "------------------------------------------------------------\n",
      "              positive   negative    neutral  unrelated\n",
      "precision: [0.55319149 0.         0.2962963  0.82432432]\n",
      "recall:    [0.63414634 0.         0.32       0.80263158]\n",
      "f1 score:  [0.59090909 0.         0.30769231 0.81333333]\n",
      "------------------------------------------------------------\n"
     ]
    },
    {
     "name": "stderr",
     "output_type": "stream",
     "text": [
      "/home/veera/anaconda3/envs/aalto-sci-project/lib/python3.7/site-packages/sklearn/metrics/_classification.py:1272: UndefinedMetricWarning: Precision is ill-defined and being set to 0.0 in labels with no predicted samples. Use `zero_division` parameter to control this behavior.\n",
      "  _warn_prf(average, modifier, msg_start, len(result))\n"
     ]
    },
    {
     "name": "stdout",
     "output_type": "stream",
     "text": [
      "accuracy: 0.604 (+/- 0.04)\n",
      "precision: 0.441 (+/- 0.04)\n",
      "recall: 0.447 (+/- 0.03)\n",
      "f1 score: 0.440 (+/- 0.03)\n",
      "Cohen's kappa: 0.374 (+/- 0.07)\n"
     ]
    },
    {
     "data": {
      "image/png": "[encoded data removed]",
      "text/plain": [
       "<Figure size 432x288 with 2 Axes>"
      ]
     },
     "metadata": {
      "needs_background": "light"
     },
     "output_type": "display_data"
    },
    {
     "name": "stdout",
     "output_type": "stream",
     "text": [
      "\n",
      "\n",
      "SVM\n",
      "              positive   negative    neutral  unrelated\n",
      "precision: [0.55555556 0.6        0.32258065 0.80519481]\n",
      "recall:    [0.5        0.42857143 0.4        0.80519481]\n",
      "f1 score:  [0.52631579 0.5        0.35714286 0.80519481]\n",
      "------------------------------------------------------------\n",
      "              positive   negative    neutral  unrelated\n",
      "precision: [0.51351351 0.33333333 0.39285714 0.73076923]\n",
      "recall:    [0.475      0.28571429 0.44       0.74025974]\n",
      "f1 score:  [0.49350649 0.30769231 0.41509434 0.73548387]\n",
      "------------------------------------------------------------\n",
      "              positive   negative    neutral  unrelated\n",
      "precision: [0.45454545 0.6        0.31578947 0.77777778]\n",
      "recall:    [0.5        0.42857143 0.24       0.81818182]\n",
      "f1 score:  [0.47619048 0.5        0.27272727 0.79746835]\n",
      "------------------------------------------------------------\n",
      "              positive   negative    neutral  unrelated\n",
      "precision: [0.48       0.33333333 0.27272727 0.74324324]\n",
      "recall:    [0.6        0.16666667 0.23076923 0.71428571]\n",
      "f1 score:  [0.53333333 0.22222222 0.25       0.72847682]\n",
      "------------------------------------------------------------\n",
      "              positive   negative    neutral  unrelated\n",
      "precision: [0.47368421 0.18181818 0.17241379 0.77142857]\n",
      "recall:    [0.45       0.33333333 0.2        0.7012987 ]\n",
      "f1 score:  [0.46153846 0.23529412 0.18518519 0.73469388]\n",
      "------------------------------------------------------------\n",
      "              positive   negative    neutral  unrelated\n",
      "precision: [0.53846154 0.33333333 0.30769231 0.79220779]\n",
      "recall:    [0.51219512 0.33333333 0.32       0.80263158]\n",
      "f1 score:  [0.525      0.33333333 0.31372549 0.79738562]\n",
      "------------------------------------------------------------\n",
      "              positive   negative    neutral  unrelated\n",
      "precision: [0.56410256 1.         0.25925926 0.74074074]\n",
      "recall:    [0.53658537 0.16666667 0.28       0.78947368]\n",
      "f1 score:  [0.55       0.28571429 0.26923077 0.76433121]\n",
      "------------------------------------------------------------\n",
      "accuracy: 0.599 (+/- 0.03)\n",
      "precision: 0.513 (+/- 0.07)\n",
      "recall: 0.471 (+/- 0.04)\n",
      "f1 score: 0.478 (+/- 0.04)\n",
      "Cohen's kappa: 0.362 (+/- 0.04)\n"
     ]
    },
    {
     "data": {
      "image/png": "[encoded data removed]",
      "text/plain": [
       "<Figure size 432x288 with 2 Axes>"
      ]
     },
     "metadata": {
      "needs_background": "light"
     },
     "output_type": "display_data"
    },
    {
     "name": "stdout",
     "output_type": "stream",
     "text": [
      "\n",
      "\n",
      "SVM with balanced classes\n",
      "              positive   negative    neutral  unrelated\n",
      "precision: [0.5        0.66666667 0.26315789 0.81690141]\n",
      "recall:    [0.425      0.57142857 0.4        0.75324675]\n",
      "f1 score:  [0.45945946 0.61538462 0.31746032 0.78378378]\n",
      "------------------------------------------------------------\n",
      "              positive   negative    neutral  unrelated\n",
      "precision: [0.58064516 0.         0.32432432 0.75324675]\n",
      "recall:    [0.45       0.         0.48       0.75324675]\n",
      "f1 score:  [0.50704225 0.         0.38709677 0.75324675]\n",
      "------------------------------------------------------------\n",
      "              positive   negative    neutral  unrelated\n",
      "precision: [0.48076923 0.66666667 0.38095238 0.83561644]\n",
      "recall:    [0.625      0.28571429 0.32       0.79220779]\n",
      "f1 score:  [0.54347826 0.4        0.34782609 0.81333333]\n",
      "------------------------------------------------------------\n",
      "              positive   negative    neutral  unrelated\n",
      "precision: [0.475      0.28571429 0.26086957 0.73417722]\n",
      "recall:    [0.475      0.33333333 0.23076923 0.75324675]\n",
      "f1 score:  [0.475      0.30769231 0.24489796 0.74358974]\n",
      "------------------------------------------------------------\n",
      "              positive   negative    neutral  unrelated\n",
      "precision: [0.57575758 0.41666667 0.22580645 0.80555556]\n",
      "recall:    [0.475      0.83333333 0.28       0.75324675]\n",
      "f1 score:  [0.52054795 0.55555556 0.25       0.77852349]\n",
      "------------------------------------------------------------\n",
      "              positive   negative    neutral  unrelated\n",
      "precision: [0.47619048 0.33333333 0.28125    0.86764706]\n",
      "recall:    [0.48780488 0.33333333 0.36       0.77631579]\n",
      "f1 score:  [0.48192771 0.33333333 0.31578947 0.81944444]\n",
      "------------------------------------------------------------\n",
      "              positive   negative    neutral  unrelated\n",
      "precision: [0.61111111 1.         0.3125     0.73417722]\n",
      "recall:    [0.53658537 0.16666667 0.4        0.76315789]\n",
      "f1 score:  [0.57142857 0.28571429 0.35087719 0.7483871 ]\n",
      "------------------------------------------------------------\n",
      "accuracy: 0.604 (+/- 0.02)\n",
      "precision: 0.524 (+/- 0.08)\n",
      "recall: 0.493 (+/- 0.05)\n",
      "f1 score: 0.490 (+/- 0.04)\n",
      "Cohen's kappa: 0.377 (+/- 0.03)\n"
     ]
    },
    {
     "data": {
      "image/png": "[encoded data removed]",
      "text/plain": [
       "<Figure size 432x288 with 2 Axes>"
      ]
     },
     "metadata": {
      "needs_background": "light"
     },
     "output_type": "display_data"
    },
    {
     "name": "stdout",
     "output_type": "stream",
     "text": [
      "\n",
      "\n"
     ]
    }
   ],
   "source": [
    "for clf, title in classifiers:\n",
    "    print(title)\n",
    "    cv(7, X, y, clf, 'macro')\n",
    "    print('\\n')"
   ]
  },
  {
   "cell_type": "code",
   "execution_count": 8,
   "metadata": {},
   "outputs": [
    {
     "name": "stdout",
     "output_type": "stream",
     "text": [
      "Top 10 keywords per class:\n",
      "Naive Bayes\n",
      "1: humanity, vehicle emission, change denial, billion, climate crisis, fight climate, rollback, require, stop funding, gop\n",
      "2: watch, grow, fight climate, hard, consider, large, ice, hoax, gop, begin\n",
      "3: information, ocean, gop, watch, greenhouse, hard, globalwarming, base, large, glasgow\n",
      "4: lo, lo precip, instead, apr climate, precip, precip snow, bag, date, hour, seem\n",
      "------------------------------------------------------------\n",
      "SVM\n",
      "1: though, climatecrisis, require, lie, important, production, billion, tell, forward, earth\n",
      "2: climate change, barackobama, probably, control, green, effect, climate, realdonaldtrump, people, greta\n",
      "3: vehicle, side, car, single, fall, gas, big, may, healthcare, scientist\n",
      "4: didnt, date, dioxide, ensure, huge, open, food, turn, fear, india\n",
      "------------------------------------------------------------\n",
      "SVM with balanced classes\n",
      "1: step, climate action, production, lie, climatecrisis, require, important, tell, forward, earth\n",
      "2: live, global, great, probably, appreciate, climate, control, barackobama, people, greta\n",
      "3: sea, full, fall, gas, real, big, scientist, may, healthcare, single\n",
      "4: india, huge, ensure, didnt, try, date, fear, turn, food, open\n",
      "------------------------------------------------------------\n"
     ]
    }
   ],
   "source": [
    "print(\"Top 10 keywords per class:\")\n",
    "for clf, title in classifiers:\n",
    "    print(title)\n",
    "    for i in range(4):\n",
    "        top10 = np.argsort(clf.coef_[i])[-10:]\n",
    "        print(\"%s: %s\" % (i+1, \", \".join(feature_names[top10])))\n",
    "    print('-' * 60)"
   ]
  },
  {
   "cell_type": "markdown",
   "metadata": {},
   "source": [
    "### 5. Apply the model"
   ]
  },
  {
   "cell_type": "code",
   "execution_count": 14,
   "metadata": {},
   "outputs": [
    {
     "name": "stdout",
     "output_type": "stream",
     "text": [
      "file /home/veera/LST_project/data/houston/full_data.csv not found\n",
      "file /home/veera/LST_project/data/miami/full_data.csv not found\n",
      "file /home/veera/LST_project/data/philadelphia/full_data.csv not found\n",
      "file /home/veera/LST_project/data/phoenix/full_data.csv not found\n"
     ]
    }
   ],
   "source": [
    "cities = ['chicago', 'houston', 'miami', 'philadelphia', 'phoenix']\n",
    "data_files = ['/home/veera/LST_project/data/%s/full_data.csv' % city for city in cities]\n",
    "\n",
    "classifier = classifier_sgd_balanced\n",
    "fit = classifier.fit(X, y)\n",
    "for f in data_files:\n",
    "    try:\n",
    "        X_new, _, _, ids = download_from_csv(f)\n",
    "        y_new_pred = fit.predict(X_new)\n",
    "        outfile = op.join(op.dirname(f), 'predictions.csv')\n",
    "        df = pd.DataFrame(np.c_[ids, y_new_pred], columns=[id_col_name, 'Label'])\n",
    "        df.to_csv(outfile, index=False)\n",
    "    except FileNotFoundError:\n",
    "        print('file', f, 'not found')"
   ]
  }
 ],
 "metadata": {
  "kernelspec": {
   "display_name": "aalto-sci-project",
   "language": "python",
   "name": "aalto-sci-project"
  },
  "language_info": {
   "codemirror_mode": {
    "name": "ipython",
    "version": 3
   },
   "file_extension": ".py",
   "mimetype": "text/x-python",
   "name": "python",
   "nbconvert_exporter": "python",
   "pygments_lexer": "ipython3",
   "version": "3.7.6"
  }
 },
 "nbformat": 4,
 "nbformat_minor": 4
}
