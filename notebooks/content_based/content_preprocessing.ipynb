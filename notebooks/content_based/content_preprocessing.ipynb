{
 "cells": [
  {
   "cell_type": "code",
   "execution_count": 51,
   "metadata": {},
   "outputs": [],
   "source": [
    "import pandas as pd\n",
    "import re\n",
    "import nltk\n",
    "#nltk.download('stopwords')\n",
    "#nltk.download('punkt')\n",
    "from nltk.corpus import stopwords\n",
    "from nltk.util import ngrams\n",
    "from sklearn.feature_extraction.text import CountVectorizer\n",
    "%run \"../config.py\" # this imports variables from config.py as global"
   ]
  },
  {
   "cell_type": "code",
   "execution_count": 77,
   "metadata": {},
   "outputs": [],
   "source": [
    "text_column_name = 'text'\n",
    "stop_words = set(stopwords.words('english'))\n",
    "ngram_range = (1, 2)\n",
    "min_df = 2 # cut-off value for ignoring rare words\n",
    "max_df = 1.0\n",
    "max_features = 300\n",
    "vectorizer = CountVectorizer(encoding='utf-8',\n",
    "                             ngram_range=ngram_range,\n",
    "                             stop_words=stop_words,\n",
    "                             max_df=max_df,\n",
    "                             min_df=min_df,\n",
    "                             max_features=max_features)"
   ]
  },
  {
   "cell_type": "code",
   "execution_count": 59,
   "metadata": {},
   "outputs": [
    {
     "name": "stdout",
     "output_type": "stream",
     "text": [
      "                    id                                               text\n",
      "0  1229818548740087809  my professor for my class on climate change li...\n",
      "1  1229818483191492608  Climate research by the rich #climatememe #cli...\n",
      "2  1229818231533309956  @wgg7wgg @pocphotocompany @DavidASeattle Sande...\n",
      "3  1229818181428170753  Inspired by Greta Thunberg, a 101-year-old cha...\n",
      "4  1229817872211378176  Here’s the best place to move if you’re worrie...\n"
     ]
    }
   ],
   "source": [
    "# Load data\n",
    "if data_filepath.endswith('.json'):\n",
    "    data = pd.read_json(data_filepath, lines=True)\n",
    "elif data_filepath.endswith('.csv'):\n",
    "    data = pd.read_csv(data_filepath)\n",
    "print(data.head())\n",
    "tweets = data[text_column_name]"
   ]
  },
  {
   "cell_type": "code",
   "execution_count": 78,
   "metadata": {},
   "outputs": [],
   "source": [
    "def preprocess(item):\n",
    "    item = item.lower() # convert to lowercase\n",
    "    # remove numbers, punctuation, tags and URLs\n",
    "    item = re.sub(r'[^a-zA-Z ]+|(@[A-Za-z0-9]+)|http\\S+', '', item)\n",
    "    return item\n"
   ]
  },
  {
   "cell_type": "code",
   "execution_count": 71,
   "metadata": {},
   "outputs": [
    {
     "data": {
      "text/plain": [
       "0    my professor for my class on climate change li...\n",
       "1    climate research by the rich climatememe clima...\n",
       "2    wggwgg pocphotocompany davidaseattle sanders i...\n",
       "3    inspired by greta thunberg a yearold champions...\n",
       "4    heres the best place to move if youre worried ...\n",
       "Name: text, dtype: object"
      ]
     },
     "execution_count": 71,
     "metadata": {},
     "output_type": "execute_result"
    }
   ],
   "source": [
    "preprocessed_tweets = tweets.apply(preprocess)\n",
    "preprocessed_tweets.head()"
   ]
  },
  {
   "cell_type": "code",
   "execution_count": 79,
   "metadata": {},
   "outputs": [
    {
     "data": {
      "text/plain": [
       "['activists',\n",
       " 'advance',\n",
       " 'advance climate',\n",
       " 'ag',\n",
       " 'ag offices',\n",
       " 'agenda',\n",
       " 'air',\n",
       " 'amazon',\n",
       " 'amp',\n",
       " 'analyses',\n",
       " 'anyway',\n",
       " 'best',\n",
       " 'bezos',\n",
       " 'bezos climate',\n",
       " 'bezos pledges',\n",
       " 'billion',\n",
       " 'billion fight',\n",
       " 'bloomberg',\n",
       " 'bloomberg program',\n",
       " 'business',\n",
       " 'care',\n",
       " 'carriept',\n",
       " 'carriept lisavanhoosept',\n",
       " 'cbarnespt',\n",
       " 'cbarnespt markmilligandpt',\n",
       " 'center',\n",
       " 'change',\n",
       " 'change agenda',\n",
       " 'chrishinzept',\n",
       " 'chrishinzept jhaleatx',\n",
       " 'climate',\n",
       " 'climate change',\n",
       " 'climate justice',\n",
       " 'climate pledge',\n",
       " 'climatechange',\n",
       " 'coal',\n",
       " 'commits',\n",
       " 'commits billion',\n",
       " 'current',\n",
       " 'current political',\n",
       " 'dawnmagnusson',\n",
       " 'dawnmagnusson drkaidpt',\n",
       " 'dont',\n",
       " 'drkaidpt',\n",
       " 'drkaidpt chrishinzept',\n",
       " 'economic',\n",
       " 'ecosearch',\n",
       " 'ecosearch news',\n",
       " 'environment',\n",
       " 'environmental',\n",
       " 'environmentmore',\n",
       " 'environmentmore ecosearch',\n",
       " 'feel',\n",
       " 'fight',\n",
       " 'fight climate',\n",
       " 'fighting',\n",
       " 'focus',\n",
       " 'footprint',\n",
       " 'fund',\n",
       " 'generation',\n",
       " 'get',\n",
       " 'give',\n",
       " 'heres',\n",
       " 'house',\n",
       " 'impact',\n",
       " 'impacts',\n",
       " 'important',\n",
       " 'jeff',\n",
       " 'jeff bezos',\n",
       " 'jhaleatx',\n",
       " 'jhaleatx sunsopeningband',\n",
       " 'justice',\n",
       " 'lawyers',\n",
       " 'lawyers ag',\n",
       " 'like',\n",
       " 'lisavanhoosept',\n",
       " 'lisavanhoosept rupalpt',\n",
       " 'literally',\n",
       " 'lot',\n",
       " 'markmilligandpt',\n",
       " 'markmilligandpt mmitchellpcs',\n",
       " 'may',\n",
       " 'mmitchellpcs',\n",
       " 'need',\n",
       " 'news',\n",
       " 'news web',\n",
       " 'number',\n",
       " 'offices',\n",
       " 'offices advance',\n",
       " 'past',\n",
       " 'people',\n",
       " 'person',\n",
       " 'pledge',\n",
       " 'pledges',\n",
       " 'pledges billion',\n",
       " 'police',\n",
       " 'political',\n",
       " 'pollution',\n",
       " 'program',\n",
       " 'program reportedly',\n",
       " 'put',\n",
       " 'put lawyers',\n",
       " 'putting',\n",
       " 'raepru',\n",
       " 'raepru cbarnespt',\n",
       " 'real',\n",
       " 'really',\n",
       " 'reportedly',\n",
       " 'reportedly put',\n",
       " 'research',\n",
       " 'rising',\n",
       " 'rupalpt',\n",
       " 'rupalpt dawnmagnusson',\n",
       " 'said',\n",
       " 'say',\n",
       " 'science',\n",
       " 'see',\n",
       " 'something',\n",
       " 'still',\n",
       " 'sunsopeningband',\n",
       " 'sunsopeningband raepru',\n",
       " 'thats',\n",
       " 'us',\n",
       " 'using',\n",
       " 'via',\n",
       " 'way',\n",
       " 'web',\n",
       " 'work',\n",
       " 'world',\n",
       " 'would',\n",
       " 'years',\n",
       " 'youre']"
      ]
     },
     "execution_count": 79,
     "metadata": {},
     "output_type": "execute_result"
    }
   ],
   "source": [
    "features = vectorizer.fit_transform(preprocessed_tweets).toarray()\n",
    "vectorizer.get_feature_names()"
   ]
  }
 ],
 "metadata": {
  "kernelspec": {
   "display_name": "Python 3",
   "language": "python",
   "name": "python3"
  },
  "language_info": {
   "codemirror_mode": {
    "name": "ipython",
    "version": 3
   },
   "file_extension": ".py",
   "mimetype": "text/x-python",
   "name": "python",
   "nbconvert_exporter": "python",
   "pygments_lexer": "ipython3",
   "version": "3.7.3"
  }
 },
 "nbformat": 4,
 "nbformat_minor": 4
}
