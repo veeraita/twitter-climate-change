{
 "cells": [
  {
   "cell_type": "code",
   "execution_count": 1,
   "metadata": {},
   "outputs": [],
   "source": [
    "import os.path as op\n",
    "import pandas as pd\n",
    "import numpy as np\n",
    "import re\n",
    "import json\n",
    "import nltk\n",
    "#nltk.download('stopwords')\n",
    "#nltk.download('punkt')\n",
    "#nltk.download('wordnet')\n",
    "#nltk.download('averaged_perceptron_tagger')\n",
    "from nltk.corpus import stopwords, wordnet\n",
    "from nltk.util import ngrams\n",
    "from nltk.stem import WordNetLemmatizer\n",
    "from sklearn.feature_extraction.text import CountVectorizer\n",
    "from sklearn.model_selection import train_test_split\n",
    "%run \"../config.py\" # this imports variables from config.py as global"
   ]
  },
  {
   "cell_type": "code",
   "execution_count": 2,
   "metadata": {},
   "outputs": [],
   "source": [
    "lemmatizer = WordNetLemmatizer()\n",
    "def get_wordnet_pos(word):\n",
    "    \"\"\"Map POS tag to first character lemmatize() accepts\"\"\"\n",
    "    tag = nltk.pos_tag([word])[0][1][0].upper()\n",
    "    tag_dict = {\"J\": wordnet.ADJ,\n",
    "                \"N\": wordnet.NOUN,\n",
    "                \"V\": wordnet.VERB,\n",
    "                \"R\": wordnet.ADV}\n",
    "\n",
    "    return tag_dict.get(tag, wordnet.NOUN)"
   ]
  },
  {
   "cell_type": "code",
   "execution_count": 18,
   "metadata": {},
   "outputs": [],
   "source": [
    "text_column_name = 'text'\n",
    "column_names = ['id_str', text_column_name, 'label']\n",
    "stop_words = set(stopwords.words('english'))\n",
    "ngram_range = (1, 2)\n",
    "min_df = 3 # cut-off value for ignoring rare words\n",
    "max_df = 1.0\n",
    "max_features = 500\n",
    "vectorizer = CountVectorizer(encoding='utf-8',\n",
    "                             ngram_range=ngram_range,\n",
    "                             stop_words=stop_words,\n",
    "                             max_df=max_df,\n",
    "                             min_df=min_df,\n",
    "                             max_features=max_features)"
   ]
  },
  {
   "cell_type": "code",
   "execution_count": 7,
   "metadata": {},
   "outputs": [
    {
     "name": "stdout",
     "output_type": "stream",
     "text": [
      "(195, 3)\n",
      "                                              id_str  \\\n",
      "0  b'Z0FBQUFBQmVqMDFfZ1Z2YkRKN21XYTFRSGpjbzcxQlJs...   \n",
      "1  b'Z0FBQUFBQmVqMDFfdDVkcDlwanRWZjlBb2N5Q183Z2NM...   \n",
      "2  b'Z0FBQUFBQmVqMDFfVTRGd2pEbnJOX01Lc2E3T2VMeTVY...   \n",
      "3  b'Z0FBQUFBQmVqMDFfM0lsVVk3S212MmpsOFVvZ0wtWERY...   \n",
      "4  b'Z0FBQUFBQmVqMDFfU2hvdnNyMTg4T2NjTVBQMWxHV0Nw...   \n",
      "5  b'Z0FBQUFBQmVqMDFfUkREY193aGp0amN6YWNpQWc2VzZ5...   \n",
      "6  b'Z0FBQUFBQmVqMDFfcTAxZThrNjc3cnA3Z3A0RkdtQlZJ...   \n",
      "7  b'Z0FBQUFBQmVqMDFfY21OLXlTRlVxX1hRTTlOemJHdXpU...   \n",
      "8  b'Z0FBQUFBQmVqMDFfaDlZeWVzbEpXTUFaX0RaWF9oa3pH...   \n",
      "9  b'Z0FBQUFBQmVqMDFfX1ladXZlMjg0a2dYcHJiTDQyNG92...   \n",
      "\n",
      "                                                text  label  \n",
      "0  Right wing media figures and groups are using ...      1  \n",
      "1  Glasgow COP26 climate change conference postpo...      3  \n",
      "2  @ErinOTooleMP Absolutely Erin. No way should h...      2  \n",
      "3  Even during the coronavirus shut down, we aren...      1  \n",
      "4  @OneOffDave1 @turpywurpy @scottgal @devisridha...      4  \n",
      "5  Maybe this pandemic is the earth's way of heal...      1  \n",
      "6  How COVID-19 might help us win the flight agai...      1  \n",
      "7  Coronavirus: recycling to be dumped in landfil...      3  \n",
      "8  @TonyBaduy @OnionPirate @PeterDClack @swcrisis...      2  \n",
      "9  @engineeringvids Unnecessary Waste of money..,...      1  \n"
     ]
    }
   ],
   "source": [
    "# Load data\n",
    "if data_filepath.endswith('.json'):\n",
    "    data_arr = []\n",
    "    with open(data_filepath, 'r') as f:\n",
    "        for tweet in f:\n",
    "            selected_row = []\n",
    "            json_tweet = json.loads(tweet)\n",
    "            try:\n",
    "                # filter out retweets and non-English tweets\n",
    "                if not json_tweet['retweeted'] and 'RT @' not in json_tweet[text_column_name] and json_tweet['lang'] == 'en':\n",
    "                    for col in column_names:\n",
    "                        selected_row.append(json_tweet[col])\n",
    "                    data_arr.append(selected_row)\n",
    "            except KeyError:\n",
    "                pass\n",
    "        data = pd.DataFrame(data_arr, columns=column_names)\n",
    "elif data_filepath.endswith('.csv'):\n",
    "    data = pd.read_csv(data_filepath)[column_names]\n",
    "print(data.shape)\n",
    "print(data.head(10))\n",
    "tweets = data[text_column_name]"
   ]
  },
  {
   "cell_type": "code",
   "execution_count": 8,
   "metadata": {},
   "outputs": [],
   "source": [
    "def preprocess(item):\n",
    "    item = item.lower() # convert to lowercase\n",
    "    item = \" \".join([lemmatizer.lemmatize(w, get_wordnet_pos(w)) for w in item.split()]) # lemmatizing\n",
    "    item = item.replace('-', ' ') # replace dashes with whitespace\n",
    "    # remove numbers, punctuation, tags and URLs\n",
    "    item = re.sub(r'[^a-zA-Z ]+|(@[A-Za-z0-9]+)|http\\S+', '', item)\n",
    "    return item"
   ]
  },
  {
   "cell_type": "code",
   "execution_count": 42,
   "metadata": {},
   "outputs": [],
   "source": [
    "# get the distribution of top unigrams\n",
    "def get_top_n_words(corpus, vectorizer, n=None):\n",
    "    vec = vectorizer.fit(corpus)\n",
    "    bag_of_words = vec.transform(corpus)\n",
    "    sum_words = bag_of_words.sum(axis=0) \n",
    "    words_freq = [(word, sum_words[0, idx]) for word, idx in vec.vocabulary_.items()]\n",
    "    words_freq = sorted(words_freq, key = lambda x: x[1], reverse=True)\n",
    "    return words_freq[:n]"
   ]
  },
  {
   "cell_type": "code",
   "execution_count": 51,
   "metadata": {},
   "outputs": [
    {
     "data": {
      "text/plain": [
       "<matplotlib.axes._subplots.AxesSubplot at 0x7f8e4e7a8210>"
      ]
     },
     "execution_count": 51,
     "metadata": {},
     "output_type": "execute_result"
    },
    {
     "data": {
      "image/png": "[encoded data removed]",
      "text/plain": [
       "<Figure size 432x288 with 1 Axes>"
      ]
     },
     "metadata": {
      "needs_background": "light"
     },
     "output_type": "display_data"
    }
   ],
   "source": [
    "common_words_original = get_top_n_words(tweets, CountVectorizer(ngram_range=(1, 2)), 20)\n",
    "df1 = pd.DataFrame(common_words_original, columns = ['word' , 'count'])\n",
    "df1.groupby('word').sum()['count'].sort_values(ascending=False).plot.bar(\n",
    "    x='word', y='count', title='Top 20 uni- or bigrams before removing stop words')"
   ]
  },
  {
   "cell_type": "code",
   "execution_count": 9,
   "metadata": {},
   "outputs": [
    {
     "data": {
      "text/plain": [
       "0    right wing medium figure and group be use the ...\n",
       "1    glasgow cop climate change conference postpone...\n",
       "2    erinotoolemp absolutely erin no way should hik...\n",
       "3    even during the coronavirus shut down we arent...\n",
       "4    oneoffdave turpywurpy scottgal devisridhar the...\n",
       "5    maybe this pandemic be the earths way of heal ...\n",
       "6    how covid  might help u win the flight against...\n",
       "7        coronavirus recycle to be dumped in landfill \n",
       "8    tonybaduy onionpirate peterdclack swcrisis mik...\n",
       "9    engineeringvids unnecessary waste of money mon...\n",
       "Name: text, dtype: object"
      ]
     },
     "execution_count": 9,
     "metadata": {},
     "output_type": "execute_result"
    }
   ],
   "source": [
    "preprocessed_tweets = tweets.apply(preprocess)\n",
    "preprocessed_tweets.head(10)"
   ]
  },
  {
   "cell_type": "code",
   "execution_count": 44,
   "metadata": {},
   "outputs": [
    {
     "data": {
      "text/plain": [
       "['action',\n",
       " 'air',\n",
       " 'air pollution',\n",
       " 'also',\n",
       " 'amount',\n",
       " 'amp',\n",
       " 'anti',\n",
       " 'april',\n",
       " 'around',\n",
       " 'back',\n",
       " 'bad',\n",
       " 'barackobama',\n",
       " 'become',\n",
       " 'big',\n",
       " 'bin',\n",
       " 'biodiversity',\n",
       " 'building',\n",
       " 'business',\n",
       " 'call',\n",
       " 'cant',\n",
       " 'car',\n",
       " 'carbon',\n",
       " 'cause',\n",
       " 'change',\n",
       " 'change denier',\n",
       " 'child',\n",
       " 'city',\n",
       " 'clear',\n",
       " 'climate',\n",
       " 'climate change',\n",
       " 'climatechange',\n",
       " 'close',\n",
       " 'co',\n",
       " 'consequence',\n",
       " 'construction',\n",
       " 'continue',\n",
       " 'control',\n",
       " 'coronavirus',\n",
       " 'coronavirus covid',\n",
       " 'could',\n",
       " 'covid',\n",
       " 'create',\n",
       " 'crisis',\n",
       " 'cut',\n",
       " 'day',\n",
       " 'deal',\n",
       " 'death',\n",
       " 'denial',\n",
       " 'denier',\n",
       " 'deniers',\n",
       " 'didnt',\n",
       " 'die',\n",
       " 'distance',\n",
       " 'doesnt',\n",
       " 'dont',\n",
       " 'drive',\n",
       " 'due',\n",
       " 'earth',\n",
       " 'economy',\n",
       " 'else',\n",
       " 'emergency',\n",
       " 'emission',\n",
       " 'emission standard',\n",
       " 'energy',\n",
       " 'environment',\n",
       " 'epa',\n",
       " 'especially',\n",
       " 'even',\n",
       " 'every',\n",
       " 'fall',\n",
       " 'far',\n",
       " 'find',\n",
       " 'first',\n",
       " 'food',\n",
       " 'fossil',\n",
       " 'fossil fuel',\n",
       " 'fuel',\n",
       " 'garden',\n",
       " 'gas',\n",
       " 'get',\n",
       " 'give',\n",
       " 'global',\n",
       " 'global warm',\n",
       " 'go',\n",
       " 'good',\n",
       " 'good thing',\n",
       " 'google',\n",
       " 'government',\n",
       " 'great',\n",
       " 'green',\n",
       " 'grow',\n",
       " 'guy',\n",
       " 'health',\n",
       " 'help',\n",
       " 'hes',\n",
       " 'hey',\n",
       " 'high',\n",
       " 'hoax',\n",
       " 'human',\n",
       " 'im',\n",
       " 'impact',\n",
       " 'important',\n",
       " 'improve',\n",
       " 'increase',\n",
       " 'international',\n",
       " 'ive',\n",
       " 'keep',\n",
       " 'kill',\n",
       " 'know',\n",
       " 'land',\n",
       " 'last',\n",
       " 'lead',\n",
       " 'learn',\n",
       " 'less',\n",
       " 'level',\n",
       " 'life',\n",
       " 'like',\n",
       " 'living',\n",
       " 'long',\n",
       " 'look',\n",
       " 'lot',\n",
       " 'make',\n",
       " 'mar',\n",
       " 'may',\n",
       " 'mean',\n",
       " 'might',\n",
       " 'money',\n",
       " 'move',\n",
       " 'much',\n",
       " 'must',\n",
       " 'natural',\n",
       " 'need',\n",
       " 'never',\n",
       " 'new',\n",
       " 'news',\n",
       " 'obama',\n",
       " 'oil',\n",
       " 'one',\n",
       " 'pandemic',\n",
       " 'part',\n",
       " 'people',\n",
       " 'planet',\n",
       " 'planning',\n",
       " 'plastic',\n",
       " 'plastic waste',\n",
       " 'pollution',\n",
       " 'problem',\n",
       " 'protect',\n",
       " 'public',\n",
       " 'push',\n",
       " 'put',\n",
       " 'question',\n",
       " 'rather',\n",
       " 'realdonaldtrump',\n",
       " 'reality',\n",
       " 'really',\n",
       " 'recycle',\n",
       " 'recycle bin',\n",
       " 'reduce',\n",
       " 'regard',\n",
       " 'report',\n",
       " 'right',\n",
       " 'roll',\n",
       " 'rule',\n",
       " 'run',\n",
       " 'save',\n",
       " 'say',\n",
       " 'science',\n",
       " 'sea',\n",
       " 'see',\n",
       " 'service',\n",
       " 'set',\n",
       " 'situation',\n",
       " 'social',\n",
       " 'sound',\n",
       " 'standard',\n",
       " 'start',\n",
       " 'still',\n",
       " 'stop',\n",
       " 'sustainability',\n",
       " 'sustainable',\n",
       " 'system',\n",
       " 'tackle',\n",
       " 'tackle climate',\n",
       " 'take',\n",
       " 'talk',\n",
       " 'thats',\n",
       " 'theres',\n",
       " 'thing',\n",
       " 'think',\n",
       " 'thought',\n",
       " 'threat',\n",
       " 'throughout',\n",
       " 'time',\n",
       " 'today',\n",
       " 'trump',\n",
       " 'turn',\n",
       " 'un',\n",
       " 'us',\n",
       " 'use',\n",
       " 'usually',\n",
       " 'vehicle',\n",
       " 'vehicle emission',\n",
       " 'virus',\n",
       " 'want',\n",
       " 'warm',\n",
       " 'waste',\n",
       " 'water',\n",
       " 'way',\n",
       " 'week',\n",
       " 'well',\n",
       " 'whether',\n",
       " 'without',\n",
       " 'wonder',\n",
       " 'work',\n",
       " 'worker',\n",
       " 'world',\n",
       " 'would',\n",
       " 'year',\n",
       " 'years',\n",
       " 'yet',\n",
       " 'youre']"
      ]
     },
     "execution_count": 44,
     "metadata": {},
     "output_type": "execute_result"
    }
   ],
   "source": [
    "X = vectorizer.fit_transform(preprocessed_tweets).toarray()\n",
    "# Add other columns\n",
    "X = np.c_[data['id_str'], X, data['label']]\n",
    "vectorizer.get_feature_names()"
   ]
  },
  {
   "cell_type": "code",
   "execution_count": 52,
   "metadata": {},
   "outputs": [
    {
     "data": {
      "text/plain": [
       "<matplotlib.axes._subplots.AxesSubplot at 0x7f8e4e6515d0>"
      ]
     },
     "execution_count": 52,
     "metadata": {},
     "output_type": "execute_result"
    },
    {
     "data": {
      "image/png": "[encoded data removed]",
      "text/plain": [
       "<Figure size 432x288 with 1 Axes>"
      ]
     },
     "metadata": {
      "needs_background": "light"
     },
     "output_type": "display_data"
    }
   ],
   "source": [
    "common_words_preprocessed = get_top_n_words(preprocessed_tweets, \n",
    "                                            CountVectorizer(ngram_range=(1, 2), stop_words=stop_words), \n",
    "                                            20)\n",
    "df1 = pd.DataFrame(common_words_preprocessed, columns = ['word' , 'count'])\n",
    "df1.groupby('word').sum()['count'].sort_values(ascending=False).plot.bar(\n",
    "    x='word', y='count', title='Top 20 uni- or bigrams after removing stop words')"
   ]
  },
  {
   "cell_type": "code",
   "execution_count": 53,
   "metadata": {},
   "outputs": [
    {
     "name": "stdout",
     "output_type": "stream",
     "text": [
      "(146, 224) (49, 224)\n",
      "                                              id_str action air air pollution  \\\n",
      "0  b'Z0FBQUFBQmVqMDFfX1ladXZlMjg0a2dYcHJiTDQyNG92...      0   0             0   \n",
      "1  b'Z0FBQUFBQmVqMDFfMjRON3NyOGNfWllwbUpKRW1GbGJa...      0   0             0   \n",
      "2  b'Z0FBQUFBQmVqMDFfMHBJRVl6clloSndmWEIyQzh6TmZo...      0   0             0   \n",
      "3  b'Z0FBQUFBQmVqMDFfNTE5a09Ba1FVSEtjVWd3RXB6M01h...      0   0             0   \n",
      "4  b'Z0FBQUFBQmVqMDFfaXl2MTU0SE40N3hHSFJZVzd0dW1P...      0   0             0   \n",
      "\n",
      "  also amount amp anti april around  ... wonder work worker world would year  \\\n",
      "0    0      0   0    0     0      0  ...      0    0      0     0     0    0   \n",
      "1    0      0   0    0     0      0  ...      0    0      0     0     0    0   \n",
      "2    0      0   0    0     0      0  ...      0    1      0     0     0    0   \n",
      "3    1      0   0    0     0      0  ...      0    0      0     0     0    0   \n",
      "4    0      0   0    0     0      0  ...      0    0      0     0     0    0   \n",
      "\n",
      "  years yet youre Label  \n",
      "0     0   0     0     1  \n",
      "1     0   1     0     1  \n",
      "2     1   0     0     3  \n",
      "3     0   0     0     3  \n",
      "4     0   0     0     1  \n",
      "\n",
      "[5 rows x 224 columns]\n"
     ]
    }
   ],
   "source": [
    "# Split the matrix into random training and testing subsets\n",
    "test_size = 0.25\n",
    "train_fpath = op.join(op.dirname(data_filepath), 'train_data.csv')\n",
    "test_fpath = op.join(op.dirname(data_filepath), 'test_data.csv')\n",
    "\n",
    "X_train, X_test = train_test_split(X, test_size=test_size)\n",
    "# \"Label\" instead of \"label\" to make sure it's a unique column name\n",
    "X_train = pd.DataFrame(X_train, columns=['id_str']+vectorizer.get_feature_names()+['Label'])\n",
    "X_test = pd.DataFrame(X_test, columns=['id_str']+vectorizer.get_feature_names()+['Label'])\n",
    "print(X_train.shape, X_test.shape)\n",
    "print(X_train.head())\n",
    "# Save to csv files\n",
    "X_train.to_csv(train_fpath, index=False)\n",
    "X_test.to_csv(test_fpath, index=False)"
   ]
  }
 ],
 "metadata": {
  "kernelspec": {
   "display_name": "aalto-sci-project",
   "language": "python",
   "name": "aalto-sci-project"
  },
  "language_info": {
   "codemirror_mode": {
    "name": "ipython",
    "version": 3
   },
   "file_extension": ".py",
   "mimetype": "text/x-python",
   "name": "python",
   "nbconvert_exporter": "python",
   "pygments_lexer": "ipython3",
   "version": "3.7.6"
  }
 },
 "nbformat": 4,
 "nbformat_minor": 4
}
