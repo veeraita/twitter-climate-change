{
 "cells": [
  {
   "cell_type": "code",
   "execution_count": 2,
   "metadata": {},
   "outputs": [],
   "source": [
    "import tweepy"
   ]
  },
  {
   "cell_type": "code",
   "execution_count": 3,
   "metadata": {},
   "outputs": [],
   "source": [
    "consumer_key = '6MdQAmstbhvJwz1wpYCKaMZsz'\n",
    "consumer_secret = '0YdSoULMG2PVUi7YaKUlAhJS6t5ejY3wYTtVUpduh6XRAG0thf'\n",
    "access_token = '1217743646063300608-nAlRFOBqCj6nehmKz1hmJrDxS6rI8e'\n",
    "access_token_secret = 'drNsz2mcwnP7yR7r42DG9a1IwPrAvfl0SRqwS8KNHJ6by'"
   ]
  },
  {
   "cell_type": "code",
   "execution_count": 22,
   "metadata": {},
   "outputs": [],
   "source": [
    "# API handle\n",
    "# oauth - readwrite, appauth - read only public info app\n",
    "auth = tweepy.AppAuthHandler(consumer_key, consumer_secret)\n",
    "#auth.set_access_token(access_token, access_token_secret)\n",
    "\n",
    "api = tweepy.API(auth)\n"
   ]
  },
  {
   "cell_type": "code",
   "execution_count": 70,
   "metadata": {},
   "outputs": [
    {
     "name": "stdout",
     "output_type": "stream",
     "text": [
      "858201\n",
      "I've always wondered if we could somehow epically desalinate our way out of sea-level rise. \n",
      "\n",
      "Nope.\n",
      "\n",
      "#ClimateCrisis #ClimateChange https://t.co/NIvVVKMdJa\n",
      "ClimateCrisis\n",
      "ClimateChange\n",
      "1151284156372066304\n",
      "125995973\n",
      "74720323\n",
      "33933259\n",
      "RT @EUatUN: Making progress on #education, @EIB &amp; @UNICEF sign partnership agreement to increase access to quality education and skills tra…\n",
      "education\n"
     ]
    }
   ],
   "source": [
    "api = tweepy.API(auth)\n",
    "# print 2 tweets from the new york city that mention climate change\n",
    "for tweet in tweepy.Cursor(api.search,tweet_mode = \"extended\",\n",
    "                           q='climatechange',\n",
    "                            geocode = '40.687244,-73.895110,20km',\n",
    "                            show_user = True).items(2):\n",
    "    print(tweet.user.id) #tweeter id\n",
    "    for user_mention in tweet.entities['user_mentions']: #mention id\n",
    "        print(user_mention['id'])\n",
    "    print(tweet.full_text) #tweet text\n",
    "    for hashtag in tweet.entities['hashtags']:\n",
    "        print(hashtag['text'])"
   ]
  },
  {
   "cell_type": "code",
   "execution_count": 24,
   "metadata": {},
   "outputs": [],
   "source": []
  },
  {
   "cell_type": "code",
   "execution_count": 19,
   "metadata": {},
   "outputs": [],
   "source": [
    "# get user\n",
    "user = api.get_user('realDonaldTrump')"
   ]
  },
  {
   "cell_type": "code",
   "execution_count": 20,
   "metadata": {},
   "outputs": [
    {
     "name": "stdout",
     "output_type": "stream",
     "text": [
      "realDonaldTrump\n",
      "71731490\n",
      "JudgeJeanine\n",
      "Jim_Jordan\n",
      "MariaBartiromo\n",
      "VP\n",
      "GOPChairwoman\n",
      "parscale\n",
      "PressSec\n",
      "TuckerCarlson\n",
      "JesseBWatters\n",
      "WhiteHouse\n",
      "Scavino45\n",
      "KellyannePolls\n",
      "Reince\n",
      "RealRomaDowney\n",
      "Trump\n",
      "TrumpGolf\n",
      "TiffanyATrump\n",
      "IngrahamAngle\n",
      "Mike_Pence\n",
      "TeamTrump\n"
     ]
    }
   ],
   "source": [
    "# print user friends\n",
    "print(user.screen_name)\n",
    "print(user.followers_count)\n",
    "for friend in user.friends():\n",
    "   print(friend.screen_name)"
   ]
  },
  {
   "cell_type": "code",
   "execution_count": null,
   "metadata": {},
   "outputs": [],
   "source": []
  }
 ],
 "metadata": {
  "kernelspec": {
   "display_name": "Python 3",
   "language": "python",
   "name": "python3"
  },
  "language_info": {
   "codemirror_mode": {
    "name": "ipython",
    "version": 3
   },
   "file_extension": ".py",
   "mimetype": "text/x-python",
   "name": "python",
   "nbconvert_exporter": "python",
   "pygments_lexer": "ipython3",
   "version": "3.7.3"
  }
 },
 "nbformat": 4,
 "nbformat_minor": 2
}
