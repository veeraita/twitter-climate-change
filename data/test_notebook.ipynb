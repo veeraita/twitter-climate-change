{
 "cells": [
  {
   "cell_type": "markdown",
   "metadata": {},
   "source": [
    "Notebook for testing data fetching code"
   ]
  },
  {
   "cell_type": "code",
   "execution_count": 1,
   "metadata": {},
   "outputs": [],
   "source": [
    "import tweetstreamer\n",
    "import sys"
   ]
  },
  {
   "cell_type": "markdown",
   "metadata": {},
   "source": [
    "# 1 encrypting credentials file"
   ]
  },
  {
   "cell_type": "code",
   "execution_count": 2,
   "metadata": {},
   "outputs": [],
   "source": [
    "from cryptography.fernet import Fernet"
   ]
  },
  {
   "cell_type": "code",
   "execution_count": 3,
   "metadata": {},
   "outputs": [],
   "source": [
    "f = open(\"tests/testcredentialfile.txt\", \"rb\") #read in binary\n",
    "blines = f.read()\n",
    "f.close()"
   ]
  },
  {
   "cell_type": "code",
   "execution_count": 4,
   "metadata": {},
   "outputs": [
    {
     "name": "stdout",
     "output_type": "stream",
     "text": [
      "b'consumer_key foo1\\nconsumer_secret foo2\\naccess_key foo3\\naccess_secret foo4'\n"
     ]
    }
   ],
   "source": [
    "print(blines)"
   ]
  },
  {
   "cell_type": "code",
   "execution_count": 5,
   "metadata": {},
   "outputs": [
    {
     "name": "stdout",
     "output_type": "stream",
     "text": [
      "key: \n",
      " XNeCz6HsuzDtCJnTcq1Inny3XyWKsehKddCUDbz-Pds=\n",
      "crypted credentials: \n",
      " gAAAAABeRaNgs9CEEsNZpmGHCsaQJ62LyicwGWTF3sP8QuzXrYTjkXiVs6-p0b7vbAJlZxSJyuO32xuGs_2tDEYonKt6LRBbpa7XQdPjBtK7a-uWLDOnnILwF_JuuCwCoNaAoOv7dRmRY5kjrZQ_EnEt4ci5KZ8voZojJWAfVF51VcSgaTpo3Og=\n"
     ]
    }
   ],
   "source": [
    "key = Fernet.generate_key() #generate key\n",
    "print(\"key: \\n\",key.decode())\n",
    "crypto = Fernet(key) \n",
    "token = crypto.encrypt(blines) #encrypt binary text\n",
    "print(\"crypted credentials: \\n\",token.decode())"
   ]
  },
  {
   "cell_type": "code",
   "execution_count": 6,
   "metadata": {},
   "outputs": [],
   "source": [
    "# write token to binary file\n",
    "f = open(\"tests/testcredentialfile.bin\",\"wb\")\n",
    "f.write(token)\n",
    "f.close()"
   ]
  },
  {
   "cell_type": "markdown",
   "metadata": {},
   "source": [
    "# 2 decode using tweetstreamer credentialhandler"
   ]
  },
  {
   "cell_type": "code",
   "execution_count": 7,
   "metadata": {},
   "outputs": [
    {
     "data": {
      "text/plain": [
       "tweetstreamer.credentials.credentialhandler.CredentialHandler"
      ]
     },
     "execution_count": 7,
     "metadata": {},
     "output_type": "execute_result"
    }
   ],
   "source": [
    "tweetstreamer.credentials.CredentialHandler"
   ]
  },
  {
   "cell_type": "code",
   "execution_count": 8,
   "metadata": {},
   "outputs": [
    {
     "name": "stdout",
     "output_type": "stream",
     "text": [
      "Type key for encrypted Twitter credentials file\n",
      "You have tree attempts, after which the program terminates\n",
      ">>········\n",
      "Invalid key. Please try again. \n",
      ">>········\n",
      "Valid password.\n"
     ]
    }
   ],
   "source": [
    "ch = tweetstreamer.credentials.CredentialHandler( \"tests/testcredentialfile.bin\")"
   ]
  },
  {
   "cell_type": "code",
   "execution_count": 9,
   "metadata": {},
   "outputs": [
    {
     "data": {
      "text/plain": [
       "{'consumer_key': 'foo1',\n",
       " 'consumer_secret': 'foo2',\n",
       " 'access_key': 'foo3',\n",
       " 'access_secret': 'foo4'}"
      ]
     },
     "execution_count": 9,
     "metadata": {},
     "output_type": "execute_result"
    }
   ],
   "source": [
    "ch.get_credentials()"
   ]
  },
  {
   "cell_type": "code",
   "execution_count": 10,
   "metadata": {},
   "outputs": [],
   "source": [
    "# yay it works!"
   ]
  }
 ],
 "metadata": {
  "kernelspec": {
   "display_name": "Python 3",
   "language": "python",
   "name": "python3"
  },
  "language_info": {
   "codemirror_mode": {
    "name": "ipython",
    "version": 3
   },
   "file_extension": ".py",
   "mimetype": "text/x-python",
   "name": "python",
   "nbconvert_exporter": "python",
   "pygments_lexer": "ipython3",
   "version": "3.7.3"
  }
 },
 "nbformat": 4,
 "nbformat_minor": 2
}
